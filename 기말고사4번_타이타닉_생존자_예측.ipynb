{
 "cells": [
  {
   "cell_type": "code",
   "execution_count": 1,
   "id": "a56de5af",
   "metadata": {
    "_cell_guid": "b1076dfc-b9ad-4769-8c92-a6c4dae69d19",
    "_uuid": "8f2839f25d086af736a60e9eeb907d3b93b6e0e5",
    "execution": {
     "iopub.execute_input": "2022-06-13T12:22:33.959978Z",
     "iopub.status.busy": "2022-06-13T12:22:33.958703Z",
     "iopub.status.idle": "2022-06-13T12:22:33.972926Z",
     "shell.execute_reply": "2022-06-13T12:22:33.972039Z"
    },
    "papermill": {
     "duration": 0.026194,
     "end_time": "2022-06-13T12:22:33.974894",
     "exception": false,
     "start_time": "2022-06-13T12:22:33.948700",
     "status": "completed"
    },
    "tags": []
   },
   "outputs": [
    {
     "name": "stdout",
     "output_type": "stream",
     "text": [
      "/kaggle/input/2022-ml-finalexam-p5/train.csv\n",
      "/kaggle/input/2022-ml-finalexam-p5/test.csv\n",
      "/kaggle/input/2022-ml-finalexam-p5/sample_submit.csv\n"
     ]
    }
   ],
   "source": [
    "# This Python 3 environment comes with many helpful analytics libraries installed\n",
    "# It is defined by the kaggle/python Docker image: https://github.com/kaggle/docker-python\n",
    "# For example, here's several helpful packages to load\n",
    "\n",
    "import numpy as np # linear algebra\n",
    "import pandas as pd # data processing, CSV file I/O (e.g. pd.read_csv)\n",
    "\n",
    "# Input data files are available in the read-only \"../input/\" directory\n",
    "# For example, running this (by clicking run or pressing Shift+Enter) will list all files under the input directory\n",
    "\n",
    "import os\n",
    "for dirname, _, filenames in os.walk('/kaggle/input'):\n",
    "    for filename in filenames:\n",
    "        print(os.path.join(dirname, filename))\n",
    "\n",
    "# You can write up to 20GB to the current directory (/kaggle/working/) that gets preserved as output when you create a version using \"Save & Run All\" \n",
    "# You can also write temporary files to /kaggle/temp/, but they won't be saved outside of the current session"
   ]
  },
  {
   "cell_type": "code",
   "execution_count": 2,
   "id": "60381830",
   "metadata": {
    "execution": {
     "iopub.execute_input": "2022-06-13T12:22:33.986685Z",
     "iopub.status.busy": "2022-06-13T12:22:33.986315Z",
     "iopub.status.idle": "2022-06-13T12:22:34.015704Z",
     "shell.execute_reply": "2022-06-13T12:22:34.015027Z"
    },
    "papermill": {
     "duration": 0.037649,
     "end_time": "2022-06-13T12:22:34.017828",
     "exception": false,
     "start_time": "2022-06-13T12:22:33.980179",
     "status": "completed"
    },
    "tags": []
   },
   "outputs": [],
   "source": [
    "train = pd.read_csv('/kaggle/input/2022-ml-finalexam-p5/train.csv')\n",
    "test = pd.read_csv('/kaggle/input/2022-ml-finalexam-p5/test.csv')\n",
    "sample = pd.read_csv('/kaggle/input/2022-ml-finalexam-p5/sample_submit.csv')"
   ]
  },
  {
   "cell_type": "markdown",
   "id": "3a45c969",
   "metadata": {
    "papermill": {
     "duration": 0.00476,
     "end_time": "2022-06-13T12:22:34.027730",
     "exception": false,
     "start_time": "2022-06-13T12:22:34.022970",
     "status": "completed"
    },
    "tags": []
   },
   "source": [
    "train데이터와 test데이터, 제출할 파일을 읽어 오기 위해서 pd.read_csv함수를 사용하였습니다."
   ]
  },
  {
   "cell_type": "code",
   "execution_count": 3,
   "id": "95d8ebe5",
   "metadata": {
    "execution": {
     "iopub.execute_input": "2022-06-13T12:22:34.039707Z",
     "iopub.status.busy": "2022-06-13T12:22:34.039111Z",
     "iopub.status.idle": "2022-06-13T12:22:34.071260Z",
     "shell.execute_reply": "2022-06-13T12:22:34.070599Z"
    },
    "papermill": {
     "duration": 0.040399,
     "end_time": "2022-06-13T12:22:34.072997",
     "exception": false,
     "start_time": "2022-06-13T12:22:34.032598",
     "status": "completed"
    },
    "tags": []
   },
   "outputs": [
    {
     "data": {
      "text/html": [
       "<div>\n",
       "<style scoped>\n",
       "    .dataframe tbody tr th:only-of-type {\n",
       "        vertical-align: middle;\n",
       "    }\n",
       "\n",
       "    .dataframe tbody tr th {\n",
       "        vertical-align: top;\n",
       "    }\n",
       "\n",
       "    .dataframe thead th {\n",
       "        text-align: right;\n",
       "    }\n",
       "</style>\n",
       "<table border=\"1\" class=\"dataframe\">\n",
       "  <thead>\n",
       "    <tr style=\"text-align: right;\">\n",
       "      <th></th>\n",
       "      <th>PassengerId</th>\n",
       "      <th>Survived</th>\n",
       "      <th>Pclass</th>\n",
       "      <th>Name</th>\n",
       "      <th>Sex</th>\n",
       "      <th>Age</th>\n",
       "      <th>SibSp</th>\n",
       "      <th>Parch</th>\n",
       "      <th>Ticket</th>\n",
       "      <th>Fare</th>\n",
       "      <th>Cabin</th>\n",
       "      <th>Embarked</th>\n",
       "    </tr>\n",
       "  </thead>\n",
       "  <tbody>\n",
       "    <tr>\n",
       "      <th>0</th>\n",
       "      <td>1</td>\n",
       "      <td>0</td>\n",
       "      <td>3</td>\n",
       "      <td>Braund, Mr. Owen Harris</td>\n",
       "      <td>male</td>\n",
       "      <td>22.0</td>\n",
       "      <td>1</td>\n",
       "      <td>0</td>\n",
       "      <td>A/5 21171</td>\n",
       "      <td>7.2500</td>\n",
       "      <td>NaN</td>\n",
       "      <td>S</td>\n",
       "    </tr>\n",
       "    <tr>\n",
       "      <th>1</th>\n",
       "      <td>2</td>\n",
       "      <td>1</td>\n",
       "      <td>1</td>\n",
       "      <td>Cumings, Mrs. John Bradley (Florence Briggs Th...</td>\n",
       "      <td>female</td>\n",
       "      <td>38.0</td>\n",
       "      <td>1</td>\n",
       "      <td>0</td>\n",
       "      <td>PC 17599</td>\n",
       "      <td>71.2833</td>\n",
       "      <td>C85</td>\n",
       "      <td>C</td>\n",
       "    </tr>\n",
       "    <tr>\n",
       "      <th>2</th>\n",
       "      <td>3</td>\n",
       "      <td>1</td>\n",
       "      <td>3</td>\n",
       "      <td>Heikkinen, Miss. Laina</td>\n",
       "      <td>female</td>\n",
       "      <td>26.0</td>\n",
       "      <td>0</td>\n",
       "      <td>0</td>\n",
       "      <td>STON/O2. 3101282</td>\n",
       "      <td>7.9250</td>\n",
       "      <td>NaN</td>\n",
       "      <td>S</td>\n",
       "    </tr>\n",
       "    <tr>\n",
       "      <th>3</th>\n",
       "      <td>4</td>\n",
       "      <td>1</td>\n",
       "      <td>1</td>\n",
       "      <td>Futrelle, Mrs. Jacques Heath (Lily May Peel)</td>\n",
       "      <td>female</td>\n",
       "      <td>35.0</td>\n",
       "      <td>1</td>\n",
       "      <td>0</td>\n",
       "      <td>113803</td>\n",
       "      <td>53.1000</td>\n",
       "      <td>C123</td>\n",
       "      <td>S</td>\n",
       "    </tr>\n",
       "    <tr>\n",
       "      <th>4</th>\n",
       "      <td>5</td>\n",
       "      <td>0</td>\n",
       "      <td>3</td>\n",
       "      <td>Allen, Mr. William Henry</td>\n",
       "      <td>male</td>\n",
       "      <td>35.0</td>\n",
       "      <td>0</td>\n",
       "      <td>0</td>\n",
       "      <td>373450</td>\n",
       "      <td>8.0500</td>\n",
       "      <td>NaN</td>\n",
       "      <td>S</td>\n",
       "    </tr>\n",
       "    <tr>\n",
       "      <th>...</th>\n",
       "      <td>...</td>\n",
       "      <td>...</td>\n",
       "      <td>...</td>\n",
       "      <td>...</td>\n",
       "      <td>...</td>\n",
       "      <td>...</td>\n",
       "      <td>...</td>\n",
       "      <td>...</td>\n",
       "      <td>...</td>\n",
       "      <td>...</td>\n",
       "      <td>...</td>\n",
       "      <td>...</td>\n",
       "    </tr>\n",
       "    <tr>\n",
       "      <th>595</th>\n",
       "      <td>596</td>\n",
       "      <td>0</td>\n",
       "      <td>3</td>\n",
       "      <td>Van Impe, Mr. Jean Baptiste</td>\n",
       "      <td>male</td>\n",
       "      <td>36.0</td>\n",
       "      <td>1</td>\n",
       "      <td>1</td>\n",
       "      <td>345773</td>\n",
       "      <td>24.1500</td>\n",
       "      <td>NaN</td>\n",
       "      <td>S</td>\n",
       "    </tr>\n",
       "    <tr>\n",
       "      <th>596</th>\n",
       "      <td>597</td>\n",
       "      <td>1</td>\n",
       "      <td>2</td>\n",
       "      <td>Leitch, Miss. Jessie Wills</td>\n",
       "      <td>female</td>\n",
       "      <td>NaN</td>\n",
       "      <td>0</td>\n",
       "      <td>0</td>\n",
       "      <td>248727</td>\n",
       "      <td>33.0000</td>\n",
       "      <td>NaN</td>\n",
       "      <td>S</td>\n",
       "    </tr>\n",
       "    <tr>\n",
       "      <th>597</th>\n",
       "      <td>598</td>\n",
       "      <td>0</td>\n",
       "      <td>3</td>\n",
       "      <td>Johnson, Mr. Alfred</td>\n",
       "      <td>male</td>\n",
       "      <td>49.0</td>\n",
       "      <td>0</td>\n",
       "      <td>0</td>\n",
       "      <td>LINE</td>\n",
       "      <td>0.0000</td>\n",
       "      <td>NaN</td>\n",
       "      <td>S</td>\n",
       "    </tr>\n",
       "    <tr>\n",
       "      <th>598</th>\n",
       "      <td>599</td>\n",
       "      <td>0</td>\n",
       "      <td>3</td>\n",
       "      <td>Boulos, Mr. Hanna</td>\n",
       "      <td>male</td>\n",
       "      <td>NaN</td>\n",
       "      <td>0</td>\n",
       "      <td>0</td>\n",
       "      <td>2664</td>\n",
       "      <td>7.2250</td>\n",
       "      <td>NaN</td>\n",
       "      <td>C</td>\n",
       "    </tr>\n",
       "    <tr>\n",
       "      <th>599</th>\n",
       "      <td>600</td>\n",
       "      <td>1</td>\n",
       "      <td>1</td>\n",
       "      <td>Duff Gordon, Sir. Cosmo Edmund (\"Mr Morgan\")</td>\n",
       "      <td>male</td>\n",
       "      <td>49.0</td>\n",
       "      <td>1</td>\n",
       "      <td>0</td>\n",
       "      <td>PC 17485</td>\n",
       "      <td>56.9292</td>\n",
       "      <td>A20</td>\n",
       "      <td>C</td>\n",
       "    </tr>\n",
       "  </tbody>\n",
       "</table>\n",
       "<p>600 rows × 12 columns</p>\n",
       "</div>"
      ],
      "text/plain": [
       "     PassengerId  Survived  Pclass  \\\n",
       "0              1         0       3   \n",
       "1              2         1       1   \n",
       "2              3         1       3   \n",
       "3              4         1       1   \n",
       "4              5         0       3   \n",
       "..           ...       ...     ...   \n",
       "595          596         0       3   \n",
       "596          597         1       2   \n",
       "597          598         0       3   \n",
       "598          599         0       3   \n",
       "599          600         1       1   \n",
       "\n",
       "                                                  Name     Sex   Age  SibSp  \\\n",
       "0                              Braund, Mr. Owen Harris    male  22.0      1   \n",
       "1    Cumings, Mrs. John Bradley (Florence Briggs Th...  female  38.0      1   \n",
       "2                               Heikkinen, Miss. Laina  female  26.0      0   \n",
       "3         Futrelle, Mrs. Jacques Heath (Lily May Peel)  female  35.0      1   \n",
       "4                             Allen, Mr. William Henry    male  35.0      0   \n",
       "..                                                 ...     ...   ...    ...   \n",
       "595                        Van Impe, Mr. Jean Baptiste    male  36.0      1   \n",
       "596                         Leitch, Miss. Jessie Wills  female   NaN      0   \n",
       "597                                Johnson, Mr. Alfred    male  49.0      0   \n",
       "598                                  Boulos, Mr. Hanna    male   NaN      0   \n",
       "599       Duff Gordon, Sir. Cosmo Edmund (\"Mr Morgan\")    male  49.0      1   \n",
       "\n",
       "     Parch            Ticket     Fare Cabin Embarked  \n",
       "0        0         A/5 21171   7.2500   NaN        S  \n",
       "1        0          PC 17599  71.2833   C85        C  \n",
       "2        0  STON/O2. 3101282   7.9250   NaN        S  \n",
       "3        0            113803  53.1000  C123        S  \n",
       "4        0            373450   8.0500   NaN        S  \n",
       "..     ...               ...      ...   ...      ...  \n",
       "595      1            345773  24.1500   NaN        S  \n",
       "596      0            248727  33.0000   NaN        S  \n",
       "597      0              LINE   0.0000   NaN        S  \n",
       "598      0              2664   7.2250   NaN        C  \n",
       "599      0          PC 17485  56.9292   A20        C  \n",
       "\n",
       "[600 rows x 12 columns]"
      ]
     },
     "execution_count": 3,
     "metadata": {},
     "output_type": "execute_result"
    }
   ],
   "source": [
    "train"
   ]
  },
  {
   "cell_type": "code",
   "execution_count": 4,
   "id": "f4cce940",
   "metadata": {
    "execution": {
     "iopub.execute_input": "2022-06-13T12:22:34.085719Z",
     "iopub.status.busy": "2022-06-13T12:22:34.085205Z",
     "iopub.status.idle": "2022-06-13T12:22:34.095740Z",
     "shell.execute_reply": "2022-06-13T12:22:34.095090Z"
    },
    "papermill": {
     "duration": 0.01918,
     "end_time": "2022-06-13T12:22:34.097703",
     "exception": false,
     "start_time": "2022-06-13T12:22:34.078523",
     "status": "completed"
    },
    "tags": []
   },
   "outputs": [],
   "source": [
    "X_train = train.drop(['Survived','Cabin','Name'],axis=1)\n",
    "X_test = test.drop(['Cabin','Name'],axis=1)\n",
    "y_train = train['Survived']"
   ]
  },
  {
   "cell_type": "markdown",
   "id": "1c716f21",
   "metadata": {
    "papermill": {
     "duration": 0.00527,
     "end_time": "2022-06-13T12:22:34.108569",
     "exception": false,
     "start_time": "2022-06-13T12:22:34.103299",
     "status": "completed"
    },
    "tags": []
   },
   "source": [
    "train데이터와 test데이터를 살펴보니 'Survived','Cabin','Name'라는 부분은 모델의 학습에 필요하지 않을 것 같아서 제거해 주기 위해서 drop 함수를 사용하였습니다."
   ]
  },
  {
   "cell_type": "code",
   "execution_count": 5,
   "id": "519c9135",
   "metadata": {
    "execution": {
     "iopub.execute_input": "2022-06-13T12:22:34.121064Z",
     "iopub.status.busy": "2022-06-13T12:22:34.120399Z",
     "iopub.status.idle": "2022-06-13T12:22:34.145931Z",
     "shell.execute_reply": "2022-06-13T12:22:34.145020Z"
    },
    "papermill": {
     "duration": 0.035218,
     "end_time": "2022-06-13T12:22:34.149075",
     "exception": false,
     "start_time": "2022-06-13T12:22:34.113857",
     "status": "completed"
    },
    "tags": []
   },
   "outputs": [
    {
     "name": "stdout",
     "output_type": "stream",
     "text": [
      "<class 'pandas.core.frame.DataFrame'>\n",
      "RangeIndex: 600 entries, 0 to 599\n",
      "Data columns (total 9 columns):\n",
      " #   Column       Non-Null Count  Dtype  \n",
      "---  ------       --------------  -----  \n",
      " 0   PassengerId  600 non-null    int64  \n",
      " 1   Pclass       600 non-null    int64  \n",
      " 2   Sex          600 non-null    object \n",
      " 3   Age          474 non-null    float64\n",
      " 4   SibSp        600 non-null    int64  \n",
      " 5   Parch        600 non-null    int64  \n",
      " 6   Ticket       600 non-null    object \n",
      " 7   Fare         600 non-null    float64\n",
      " 8   Embarked     599 non-null    object \n",
      "dtypes: float64(2), int64(4), object(3)\n",
      "memory usage: 42.3+ KB\n",
      "<class 'pandas.core.frame.DataFrame'>\n",
      "RangeIndex: 291 entries, 0 to 290\n",
      "Data columns (total 9 columns):\n",
      " #   Column       Non-Null Count  Dtype  \n",
      "---  ------       --------------  -----  \n",
      " 0   PassengerId  291 non-null    int64  \n",
      " 1   Pclass       291 non-null    int64  \n",
      " 2   Sex          291 non-null    object \n",
      " 3   Age          240 non-null    float64\n",
      " 4   SibSp        291 non-null    int64  \n",
      " 5   Parch        291 non-null    int64  \n",
      " 6   Ticket       291 non-null    object \n",
      " 7   Fare         291 non-null    float64\n",
      " 8   Embarked     290 non-null    object \n",
      "dtypes: float64(2), int64(4), object(3)\n",
      "memory usage: 20.6+ KB\n"
     ]
    }
   ],
   "source": [
    "X_train.info()\n",
    "X_test.info()"
   ]
  },
  {
   "cell_type": "markdown",
   "id": "76b22640",
   "metadata": {
    "papermill": {
     "duration": 0.005606,
     "end_time": "2022-06-13T12:22:34.161005",
     "exception": false,
     "start_time": "2022-06-13T12:22:34.155399",
     "status": "completed"
    },
    "tags": []
   },
   "source": [
    "train데이터와 test데이터의 각각의 데이터형식과 null값의 개수를 파악하기 위해서 info함수를 사용하였습니다."
   ]
  },
  {
   "cell_type": "code",
   "execution_count": 6,
   "id": "fcc58133",
   "metadata": {
    "execution": {
     "iopub.execute_input": "2022-06-13T12:22:34.173726Z",
     "iopub.status.busy": "2022-06-13T12:22:34.173380Z",
     "iopub.status.idle": "2022-06-13T12:22:35.217521Z",
     "shell.execute_reply": "2022-06-13T12:22:35.216587Z"
    },
    "papermill": {
     "duration": 1.053214,
     "end_time": "2022-06-13T12:22:35.219826",
     "exception": false,
     "start_time": "2022-06-13T12:22:34.166612",
     "status": "completed"
    },
    "tags": []
   },
   "outputs": [],
   "source": [
    "from sklearn import preprocessing\n",
    "label = ['Sex','Ticket','Embarked']\n",
    "box = pd.concat([X_train,X_test])\n",
    "for i in label:\n",
    "    le = preprocessing.LabelEncoder()\n",
    "    le.fit(box[i])\n",
    "    X_train[i] = le.transform(X_train[i])\n",
    "    X_test[i] = le.transform(X_test[i])"
   ]
  },
  {
   "cell_type": "markdown",
   "id": "2dbf9625",
   "metadata": {
    "papermill": {
     "duration": 0.005977,
     "end_time": "2022-06-13T12:22:35.231791",
     "exception": false,
     "start_time": "2022-06-13T12:22:35.225814",
     "status": "completed"
    },
    "tags": []
   },
   "source": [
    "데이터에 있는 값들 중 컴퓨터가 이해할 수 없는 한글을 실수화 해주기 위해서 labelencoder 함수를 사용했습니다."
   ]
  },
  {
   "cell_type": "code",
   "execution_count": 7,
   "id": "65180c26",
   "metadata": {
    "execution": {
     "iopub.execute_input": "2022-06-13T12:22:35.245472Z",
     "iopub.status.busy": "2022-06-13T12:22:35.244842Z",
     "iopub.status.idle": "2022-06-13T12:22:35.253475Z",
     "shell.execute_reply": "2022-06-13T12:22:35.252732Z"
    },
    "papermill": {
     "duration": 0.017988,
     "end_time": "2022-06-13T12:22:35.255615",
     "exception": false,
     "start_time": "2022-06-13T12:22:35.237627",
     "status": "completed"
    },
    "tags": []
   },
   "outputs": [],
   "source": [
    "bow = X_train[X_train['Age'].isnull()].index\n",
    "ages = X_train['Age'].copy()\n",
    "for i in bow:\n",
    "    ages[i] = -1\n",
    "X_train['Age'] = ages"
   ]
  },
  {
   "cell_type": "markdown",
   "id": "0ef49723",
   "metadata": {
    "papermill": {
     "duration": 0.005332,
     "end_time": "2022-06-13T12:22:35.266666",
     "exception": false,
     "start_time": "2022-06-13T12:22:35.261334",
     "status": "completed"
    },
    "tags": []
   },
   "source": [
    "train데이터의 'Age'라는 부분에 'NaN'값이 들어가 있어서 해당 값들을 찾아내고 -1로 교환하고자 index함수와 copy함수를 사용했습니다."
   ]
  },
  {
   "cell_type": "code",
   "execution_count": 8,
   "id": "869371ac",
   "metadata": {
    "execution": {
     "iopub.execute_input": "2022-06-13T12:22:35.279956Z",
     "iopub.status.busy": "2022-06-13T12:22:35.279237Z",
     "iopub.status.idle": "2022-06-13T12:22:35.286781Z",
     "shell.execute_reply": "2022-06-13T12:22:35.285893Z"
    },
    "papermill": {
     "duration": 0.016781,
     "end_time": "2022-06-13T12:22:35.289089",
     "exception": false,
     "start_time": "2022-06-13T12:22:35.272308",
     "status": "completed"
    },
    "tags": []
   },
   "outputs": [],
   "source": [
    "bow = X_test[X_test['Age'].isnull()].index\n",
    "tages = X_test['Age'].copy()\n",
    "for i in bow:\n",
    "    tages[i] = -1\n",
    "X_test['Age'] = tages"
   ]
  },
  {
   "cell_type": "markdown",
   "id": "8f5a6a48",
   "metadata": {
    "papermill": {
     "duration": 0.005209,
     "end_time": "2022-06-13T12:22:35.299742",
     "exception": false,
     "start_time": "2022-06-13T12:22:35.294533",
     "status": "completed"
    },
    "tags": []
   },
   "source": [
    "test데이터의 'Age'라는 부분에 'NaN'값이 들어가 있어서 해당 값들을 찾아내고 -1로 교환하고자 index함수와 copy함수를 사용했습니다."
   ]
  },
  {
   "cell_type": "code",
   "execution_count": 9,
   "id": "f699232e",
   "metadata": {
    "execution": {
     "iopub.execute_input": "2022-06-13T12:22:35.312489Z",
     "iopub.status.busy": "2022-06-13T12:22:35.311778Z",
     "iopub.status.idle": "2022-06-13T12:22:36.403072Z",
     "shell.execute_reply": "2022-06-13T12:22:36.402264Z"
    },
    "papermill": {
     "duration": 1.100361,
     "end_time": "2022-06-13T12:22:36.405375",
     "exception": false,
     "start_time": "2022-06-13T12:22:35.305014",
     "status": "completed"
    },
    "tags": []
   },
   "outputs": [
    {
     "data": {
      "text/html": [
       "<style type='text/css'>\n",
       ".datatable table.frame { margin-bottom: 0; }\n",
       ".datatable table.frame thead { border-bottom: none; }\n",
       ".datatable table.frame tr.coltypes td {  color: #FFFFFF;  line-height: 6px;  padding: 0 0.5em;}\n",
       ".datatable .bool    { background: #DDDD99; }\n",
       ".datatable .object  { background: #565656; }\n",
       ".datatable .int     { background: #5D9E5D; }\n",
       ".datatable .float   { background: #4040CC; }\n",
       ".datatable .str     { background: #CC4040; }\n",
       ".datatable .time    { background: #40CC40; }\n",
       ".datatable .row_index {  background: var(--jp-border-color3);  border-right: 1px solid var(--jp-border-color0);  color: var(--jp-ui-font-color3);  font-size: 9px;}\n",
       ".datatable .frame tbody td { text-align: left; }\n",
       ".datatable .frame tr.coltypes .row_index {  background: var(--jp-border-color0);}\n",
       ".datatable th:nth-child(2) { padding-left: 12px; }\n",
       ".datatable .hellipsis {  color: var(--jp-cell-editor-border-color);}\n",
       ".datatable .vellipsis {  background: var(--jp-layout-color0);  color: var(--jp-cell-editor-border-color);}\n",
       ".datatable .na {  color: var(--jp-cell-editor-border-color);  font-size: 80%;}\n",
       ".datatable .sp {  opacity: 0.25;}\n",
       ".datatable .footer { font-size: 9px; }\n",
       ".datatable .frame_dimensions {  background: var(--jp-border-color3);  border-top: 1px solid var(--jp-border-color0);  color: var(--jp-ui-font-color3);  display: inline-block;  opacity: 0.6;  padding: 1px 10px 1px 5px;}\n",
       "</style>\n"
      ],
      "text/plain": [
       "<IPython.core.display.HTML object>"
      ]
     },
     "metadata": {},
     "output_type": "display_data"
    }
   ],
   "source": [
    "from lightgbm import LGBMClassifier\n",
    "\n",
    "model = LGBMClassifier(random_state=42).fit(X_train,y_train)\n",
    "y_test = model.predict(X_test)"
   ]
  },
  {
   "cell_type": "markdown",
   "id": "01dc8620",
   "metadata": {
    "papermill": {
     "duration": 0.006423,
     "end_time": "2022-06-13T12:22:36.420756",
     "exception": false,
     "start_time": "2022-06-13T12:22:36.414333",
     "status": "completed"
    },
    "tags": []
   },
   "source": [
    "여러가지의 분류기중 최근 가장 좋은 성능을 보이고 있다는 lightgbm을 사용하기 위해서 해당 모델을 호출하여 학습하고 예측을 진행했습니다."
   ]
  },
  {
   "cell_type": "code",
   "execution_count": 10,
   "id": "45332a3d",
   "metadata": {
    "execution": {
     "iopub.execute_input": "2022-06-13T12:22:36.434103Z",
     "iopub.status.busy": "2022-06-13T12:22:36.433402Z",
     "iopub.status.idle": "2022-06-13T12:22:36.441332Z",
     "shell.execute_reply": "2022-06-13T12:22:36.440686Z"
    },
    "papermill": {
     "duration": 0.01661,
     "end_time": "2022-06-13T12:22:36.443190",
     "exception": false,
     "start_time": "2022-06-13T12:22:36.426580",
     "status": "completed"
    },
    "tags": []
   },
   "outputs": [],
   "source": [
    "sample['Survived'] = y_test\n",
    "sample.to_csv('submit.csv',index=False)"
   ]
  },
  {
   "cell_type": "markdown",
   "id": "c4b61157",
   "metadata": {
    "papermill": {
     "duration": 0.005348,
     "end_time": "2022-06-13T12:22:36.454547",
     "exception": false,
     "start_time": "2022-06-13T12:22:36.449199",
     "status": "completed"
    },
    "tags": []
   },
   "source": [
    "예측한 값을 csv파일로 옮겨서 제출하기 위해서 to_csv함수를 사용했습니다."
   ]
  },
  {
   "cell_type": "code",
   "execution_count": null,
   "id": "0cf5b69a",
   "metadata": {
    "papermill": {
     "duration": 0.005204,
     "end_time": "2022-06-13T12:22:36.465365",
     "exception": false,
     "start_time": "2022-06-13T12:22:36.460161",
     "status": "completed"
    },
    "tags": []
   },
   "outputs": [],
   "source": []
  }
 ],
 "metadata": {
  "kernelspec": {
   "display_name": "Python 3",
   "language": "python",
   "name": "python3"
  },
  "language_info": {
   "codemirror_mode": {
    "name": "ipython",
    "version": 3
   },
   "file_extension": ".py",
   "mimetype": "text/x-python",
   "name": "python",
   "nbconvert_exporter": "python",
   "pygments_lexer": "ipython3",
   "version": "3.7.12"
  },
  "papermill": {
   "default_parameters": {},
   "duration": 12.784407,
   "end_time": "2022-06-13T12:22:37.192794",
   "environment_variables": {},
   "exception": null,
   "input_path": "__notebook__.ipynb",
   "output_path": "__notebook__.ipynb",
   "parameters": {},
   "start_time": "2022-06-13T12:22:24.408387",
   "version": "2.3.4"
  }
 },
 "nbformat": 4,
 "nbformat_minor": 5
}
