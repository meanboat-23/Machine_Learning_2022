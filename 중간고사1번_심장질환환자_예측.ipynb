{
 "cells": [
  {
   "cell_type": "markdown",
   "source": [
    "# This Python 3 environment comes with many helpful analytics libraries installed\n",
    "# It is defined by the kaggle/python Docker image: https://github.com/kaggle/docker-python\n",
    "# For example, here's several helpful packages to load\n",
    "\n",
    "import numpy as np # linear algebra\n",
    "import pandas as pd # data processing, CSV file I/O (e.g. pd.read_csv)\n",
    "\n",
    "# Input data files are available in the read-only \"../input/\" directory\n",
    "# For example, running this (by clicking run or pressing Shift+Enter) will list all files under the input directory\n",
    "\n",
    "import os\n",
    "for dirname, _, filenames in os.walk('/kaggle/input'):\n",
    "    for filename in filenames:\n",
    "        print(os.path.join(dirname, filename))\n",
    "\n",
    "# You can write up to 20GB to the current directory (/kaggle/working/) that gets preserved as output when you create a version using \"Save & Run All\" \n",
    "# You can also write temporary files to /kaggle/temp/, but they won't be saved outside of the current session"
   ],
   "metadata": {
    "collapsed": false,
    "pycharm": {
     "name": "#%% md\n"
    }
   }
  },
  {
   "cell_type": "code",
   "execution_count": 2,
   "id": "726a3510",
   "metadata": {
    "execution": {
     "iopub.execute_input": "2022-04-18T12:52:41.303545Z",
     "iopub.status.busy": "2022-04-18T12:52:41.302979Z",
     "iopub.status.idle": "2022-04-18T12:52:41.308245Z",
     "shell.execute_reply": "2022-04-18T12:52:41.307516Z"
    },
    "papermill": {
     "duration": 0.02095,
     "end_time": "2022-04-18T12:52:41.310455",
     "exception": false,
     "start_time": "2022-04-18T12:52:41.289505",
     "status": "completed"
    },
    "tags": [],
    "pycharm": {
     "name": "#%%\n"
    }
   },
   "outputs": [],
   "source": [
    "import random\n",
    "import os\n",
    "seed = 42\n",
    "random.seed(seed)\n",
    "np.random.seed(seed)\n",
    "os.environ[\"PYTHONHASHSEED\"] = str(seed)"
   ]
  },
  {
   "cell_type": "markdown",
   "source": [],
   "metadata": {
    "collapsed": false,
    "pycharm": {
     "name": "#%% md\n"
    }
   }
  },
  {
   "cell_type": "code",
   "execution_count": 3,
   "id": "d3ee8ccf",
   "metadata": {
    "execution": {
     "iopub.execute_input": "2022-04-18T12:52:41.336185Z",
     "iopub.status.busy": "2022-04-18T12:52:41.335587Z",
     "iopub.status.idle": "2022-04-18T12:52:41.363297Z",
     "shell.execute_reply": "2022-04-18T12:52:41.362612Z"
    },
    "papermill": {
     "duration": 0.043744,
     "end_time": "2022-04-18T12:52:41.365618",
     "exception": false,
     "start_time": "2022-04-18T12:52:41.321874",
     "status": "completed"
    },
    "tags": [],
    "pycharm": {
     "name": "#%%\n"
    }
   },
   "outputs": [],
   "source": [
    "sample = pd.read_csv('/kaggle/input/2022-ml-midterm-p1/submit.csv')\n",
    "train = pd.read_csv('/kaggle/input/2022-ml-midterm-p1/train.csv')\n",
    "test = pd.read_csv('/kaggle/input/2022-ml-midterm-p1/test.csv')"
   ]
  },
  {
   "cell_type": "markdown",
   "id": "762e6aed",
   "metadata": {
    "papermill": {
     "duration": 0.011713,
     "end_time": "2022-04-18T12:52:41.389245",
     "exception": false,
     "start_time": "2022-04-18T12:52:41.377532",
     "status": "completed"
    },
    "tags": [],
    "pycharm": {
     "name": "#%% md\n"
    }
   },
   "source": [
    "데이터를 불러오기 위해서 pd.read_csv() 함수를 사용하였다."
   ]
  },
  {
   "cell_type": "code",
   "execution_count": 4,
   "id": "7c048f7a",
   "metadata": {
    "execution": {
     "iopub.execute_input": "2022-04-18T12:52:41.414470Z",
     "iopub.status.busy": "2022-04-18T12:52:41.413871Z",
     "iopub.status.idle": "2022-04-18T12:52:41.442326Z",
     "shell.execute_reply": "2022-04-18T12:52:41.441425Z"
    },
    "papermill": {
     "duration": 0.044024,
     "end_time": "2022-04-18T12:52:41.444731",
     "exception": false,
     "start_time": "2022-04-18T12:52:41.400707",
     "status": "completed"
    },
    "tags": [],
    "pycharm": {
     "name": "#%%\n"
    }
   },
   "outputs": [
    {
     "data": {
      "text/html": [
       "<div>\n",
       "<style scoped>\n",
       "    .dataframe tbody tr th:only-of-type {\n",
       "        vertical-align: middle;\n",
       "    }\n",
       "\n",
       "    .dataframe tbody tr th {\n",
       "        vertical-align: top;\n",
       "    }\n",
       "\n",
       "    .dataframe thead th {\n",
       "        text-align: right;\n",
       "    }\n",
       "</style>\n",
       "<table border=\"1\" class=\"dataframe\">\n",
       "  <thead>\n",
       "    <tr style=\"text-align: right;\">\n",
       "      <th></th>\n",
       "      <th>index</th>\n",
       "      <th>age</th>\n",
       "      <th>sex</th>\n",
       "      <th>cp</th>\n",
       "      <th>trestbps</th>\n",
       "      <th>chol</th>\n",
       "      <th>fbs</th>\n",
       "      <th>restecg</th>\n",
       "      <th>thalach</th>\n",
       "      <th>exang</th>\n",
       "      <th>oldpeak</th>\n",
       "      <th>slope</th>\n",
       "      <th>ca</th>\n",
       "      <th>thal</th>\n",
       "      <th>target</th>\n",
       "    </tr>\n",
       "  </thead>\n",
       "  <tbody>\n",
       "    <tr>\n",
       "      <th>0</th>\n",
       "      <td>0</td>\n",
       "      <td>63</td>\n",
       "      <td>1</td>\n",
       "      <td>1</td>\n",
       "      <td>145</td>\n",
       "      <td>233</td>\n",
       "      <td>1</td>\n",
       "      <td>2</td>\n",
       "      <td>150</td>\n",
       "      <td>0</td>\n",
       "      <td>2.3</td>\n",
       "      <td>3</td>\n",
       "      <td>0</td>\n",
       "      <td>6</td>\n",
       "      <td>0</td>\n",
       "    </tr>\n",
       "    <tr>\n",
       "      <th>1</th>\n",
       "      <td>1</td>\n",
       "      <td>67</td>\n",
       "      <td>1</td>\n",
       "      <td>4</td>\n",
       "      <td>160</td>\n",
       "      <td>286</td>\n",
       "      <td>0</td>\n",
       "      <td>2</td>\n",
       "      <td>108</td>\n",
       "      <td>1</td>\n",
       "      <td>1.5</td>\n",
       "      <td>2</td>\n",
       "      <td>3</td>\n",
       "      <td>3</td>\n",
       "      <td>2</td>\n",
       "    </tr>\n",
       "    <tr>\n",
       "      <th>2</th>\n",
       "      <td>2</td>\n",
       "      <td>67</td>\n",
       "      <td>1</td>\n",
       "      <td>4</td>\n",
       "      <td>120</td>\n",
       "      <td>229</td>\n",
       "      <td>0</td>\n",
       "      <td>2</td>\n",
       "      <td>129</td>\n",
       "      <td>1</td>\n",
       "      <td>2.6</td>\n",
       "      <td>2</td>\n",
       "      <td>2</td>\n",
       "      <td>7</td>\n",
       "      <td>1</td>\n",
       "    </tr>\n",
       "    <tr>\n",
       "      <th>3</th>\n",
       "      <td>4</td>\n",
       "      <td>41</td>\n",
       "      <td>0</td>\n",
       "      <td>2</td>\n",
       "      <td>130</td>\n",
       "      <td>204</td>\n",
       "      <td>0</td>\n",
       "      <td>2</td>\n",
       "      <td>172</td>\n",
       "      <td>0</td>\n",
       "      <td>1.4</td>\n",
       "      <td>1</td>\n",
       "      <td>0</td>\n",
       "      <td>3</td>\n",
       "      <td>0</td>\n",
       "    </tr>\n",
       "    <tr>\n",
       "      <th>4</th>\n",
       "      <td>5</td>\n",
       "      <td>56</td>\n",
       "      <td>1</td>\n",
       "      <td>2</td>\n",
       "      <td>120</td>\n",
       "      <td>236</td>\n",
       "      <td>0</td>\n",
       "      <td>0</td>\n",
       "      <td>178</td>\n",
       "      <td>0</td>\n",
       "      <td>0.8</td>\n",
       "      <td>1</td>\n",
       "      <td>0</td>\n",
       "      <td>3</td>\n",
       "      <td>0</td>\n",
       "    </tr>\n",
       "    <tr>\n",
       "      <th>...</th>\n",
       "      <td>...</td>\n",
       "      <td>...</td>\n",
       "      <td>...</td>\n",
       "      <td>...</td>\n",
       "      <td>...</td>\n",
       "      <td>...</td>\n",
       "      <td>...</td>\n",
       "      <td>...</td>\n",
       "      <td>...</td>\n",
       "      <td>...</td>\n",
       "      <td>...</td>\n",
       "      <td>...</td>\n",
       "      <td>...</td>\n",
       "      <td>...</td>\n",
       "      <td>...</td>\n",
       "    </tr>\n",
       "    <tr>\n",
       "      <th>237</th>\n",
       "      <td>295</td>\n",
       "      <td>41</td>\n",
       "      <td>1</td>\n",
       "      <td>2</td>\n",
       "      <td>120</td>\n",
       "      <td>157</td>\n",
       "      <td>0</td>\n",
       "      <td>0</td>\n",
       "      <td>182</td>\n",
       "      <td>0</td>\n",
       "      <td>0.0</td>\n",
       "      <td>1</td>\n",
       "      <td>0</td>\n",
       "      <td>3</td>\n",
       "      <td>0</td>\n",
       "    </tr>\n",
       "    <tr>\n",
       "      <th>238</th>\n",
       "      <td>296</td>\n",
       "      <td>59</td>\n",
       "      <td>1</td>\n",
       "      <td>4</td>\n",
       "      <td>164</td>\n",
       "      <td>176</td>\n",
       "      <td>1</td>\n",
       "      <td>2</td>\n",
       "      <td>90</td>\n",
       "      <td>0</td>\n",
       "      <td>1.0</td>\n",
       "      <td>2</td>\n",
       "      <td>2</td>\n",
       "      <td>6</td>\n",
       "      <td>3</td>\n",
       "    </tr>\n",
       "    <tr>\n",
       "      <th>239</th>\n",
       "      <td>299</td>\n",
       "      <td>68</td>\n",
       "      <td>1</td>\n",
       "      <td>4</td>\n",
       "      <td>144</td>\n",
       "      <td>193</td>\n",
       "      <td>1</td>\n",
       "      <td>0</td>\n",
       "      <td>141</td>\n",
       "      <td>0</td>\n",
       "      <td>3.4</td>\n",
       "      <td>2</td>\n",
       "      <td>2</td>\n",
       "      <td>7</td>\n",
       "      <td>2</td>\n",
       "    </tr>\n",
       "    <tr>\n",
       "      <th>240</th>\n",
       "      <td>300</td>\n",
       "      <td>57</td>\n",
       "      <td>1</td>\n",
       "      <td>4</td>\n",
       "      <td>130</td>\n",
       "      <td>131</td>\n",
       "      <td>0</td>\n",
       "      <td>0</td>\n",
       "      <td>115</td>\n",
       "      <td>1</td>\n",
       "      <td>1.2</td>\n",
       "      <td>2</td>\n",
       "      <td>1</td>\n",
       "      <td>7</td>\n",
       "      <td>3</td>\n",
       "    </tr>\n",
       "    <tr>\n",
       "      <th>241</th>\n",
       "      <td>301</td>\n",
       "      <td>57</td>\n",
       "      <td>0</td>\n",
       "      <td>2</td>\n",
       "      <td>130</td>\n",
       "      <td>236</td>\n",
       "      <td>0</td>\n",
       "      <td>2</td>\n",
       "      <td>174</td>\n",
       "      <td>0</td>\n",
       "      <td>0.0</td>\n",
       "      <td>2</td>\n",
       "      <td>1</td>\n",
       "      <td>3</td>\n",
       "      <td>1</td>\n",
       "    </tr>\n",
       "  </tbody>\n",
       "</table>\n",
       "<p>242 rows × 15 columns</p>\n",
       "</div>"
      ],
      "text/plain": [
       "     index  age  sex  cp  trestbps  chol  fbs  restecg  thalach  exang  \\\n",
       "0        0   63    1   1       145   233    1        2      150      0   \n",
       "1        1   67    1   4       160   286    0        2      108      1   \n",
       "2        2   67    1   4       120   229    0        2      129      1   \n",
       "3        4   41    0   2       130   204    0        2      172      0   \n",
       "4        5   56    1   2       120   236    0        0      178      0   \n",
       "..     ...  ...  ...  ..       ...   ...  ...      ...      ...    ...   \n",
       "237    295   41    1   2       120   157    0        0      182      0   \n",
       "238    296   59    1   4       164   176    1        2       90      0   \n",
       "239    299   68    1   4       144   193    1        0      141      0   \n",
       "240    300   57    1   4       130   131    0        0      115      1   \n",
       "241    301   57    0   2       130   236    0        2      174      0   \n",
       "\n",
       "     oldpeak  slope  ca  thal  target  \n",
       "0        2.3      3   0     6       0  \n",
       "1        1.5      2   3     3       2  \n",
       "2        2.6      2   2     7       1  \n",
       "3        1.4      1   0     3       0  \n",
       "4        0.8      1   0     3       0  \n",
       "..       ...    ...  ..   ...     ...  \n",
       "237      0.0      1   0     3       0  \n",
       "238      1.0      2   2     6       3  \n",
       "239      3.4      2   2     7       2  \n",
       "240      1.2      2   1     7       3  \n",
       "241      0.0      2   1     3       1  \n",
       "\n",
       "[242 rows x 15 columns]"
      ]
     },
     "execution_count": 4,
     "metadata": {},
     "output_type": "execute_result"
    }
   ],
   "source": [
    "train"
   ]
  },
  {
   "cell_type": "code",
   "execution_count": 5,
   "id": "4a6453dd",
   "metadata": {
    "execution": {
     "iopub.execute_input": "2022-04-18T12:52:41.470217Z",
     "iopub.status.busy": "2022-04-18T12:52:41.469620Z",
     "iopub.status.idle": "2022-04-18T12:52:41.483997Z",
     "shell.execute_reply": "2022-04-18T12:52:41.483105Z"
    },
    "papermill": {
     "duration": 0.029955,
     "end_time": "2022-04-18T12:52:41.486336",
     "exception": false,
     "start_time": "2022-04-18T12:52:41.456381",
     "status": "completed"
    },
    "tags": [],
    "pycharm": {
     "name": "#%%\n"
    }
   },
   "outputs": [],
   "source": [
    "X_train = train.drop(['index','target'],axis=1)\n",
    "train[train['target']>1]=1\n",
    "y_train = train['target']\n",
    "X_test = test.drop(['index'],axis=1)"
   ]
  },
  {
   "cell_type": "markdown",
   "id": "79040542",
   "metadata": {
    "papermill": {
     "duration": 0.011336,
     "end_time": "2022-04-18T12:52:41.509497",
     "exception": false,
     "start_time": "2022-04-18T12:52:41.498161",
     "status": "completed"
    },
    "tags": [],
    "pycharm": {
     "name": "#%% md\n"
    }
   },
   "source": [
    "데이터를 살펴보니 'index'가 공통적으로 훈련데이터와 학습데이터에 들어있어서 제거해주었고, 훈련데이터에서는 학습을 하기위해서 'target'라는 라벨을 따로 떼서 다른 변수에 담아주었다. 또한 문제에서 심장병 유무를 예측하는 것이므로 학습데이터중 정답라벨의 값들중 1보다 큰 값들을 전부 1로 변경해 주었다."
   ]
  },
  {
   "cell_type": "code",
   "execution_count": 6,
   "id": "05884b59",
   "metadata": {
    "execution": {
     "iopub.execute_input": "2022-04-18T12:52:41.534904Z",
     "iopub.status.busy": "2022-04-18T12:52:41.534136Z",
     "iopub.status.idle": "2022-04-18T12:52:42.810548Z",
     "shell.execute_reply": "2022-04-18T12:52:42.809671Z"
    },
    "papermill": {
     "duration": 1.292578,
     "end_time": "2022-04-18T12:52:42.813730",
     "exception": false,
     "start_time": "2022-04-18T12:52:41.521152",
     "status": "completed"
    },
    "tags": [],
    "pycharm": {
     "name": "#%%\n"
    }
   },
   "outputs": [
    {
     "name": "stderr",
     "output_type": "stream",
     "text": [
      "/opt/conda/lib/python3.7/site-packages/sklearn/linear_model/_logistic.py:818: ConvergenceWarning: lbfgs failed to converge (status=1):\n",
      "STOP: TOTAL NO. of ITERATIONS REACHED LIMIT.\n",
      "\n",
      "Increase the number of iterations (max_iter) or scale the data as shown in:\n",
      "    https://scikit-learn.org/stable/modules/preprocessing.html\n",
      "Please also refer to the documentation for alternative solver options:\n",
      "    https://scikit-learn.org/stable/modules/linear_model.html#logistic-regression\n",
      "  extra_warning_msg=_LOGISTIC_SOLVER_CONVERGENCE_MSG,\n"
     ]
    }
   ],
   "source": [
    "from sklearn.linear_model import LogisticRegression\n",
    "model = LogisticRegression().fit(X_train, y_train)\n",
    "y_test = model.predict(X_test)"
   ]
  },
  {
   "cell_type": "markdown",
   "id": "981646e7",
   "metadata": {
    "papermill": {
     "duration": 0.01204,
     "end_time": "2022-04-18T12:52:42.838650",
     "exception": false,
     "start_time": "2022-04-18T12:52:42.826610",
     "status": "completed"
    },
    "tags": [],
    "pycharm": {
     "name": "#%% md\n"
    }
   },
   "source": [
    "해당 문제는 심장질환 환자 예측하는 문제로 분류 문제에 해당하기에 먼저 분류모델을 만들어야한다고 생각했고 학습데이터의 수가 241개 정도로 적고 0과 1로 분류하는 문제여서 선형으로 구분할 수가 있다고 판단하여 LogisticRegression을 선언하고 학습을 시켰다."
   ]
  },
  {
   "cell_type": "code",
   "execution_count": 7,
   "id": "a6047e7e",
   "metadata": {
    "execution": {
     "iopub.execute_input": "2022-04-18T12:52:42.867470Z",
     "iopub.status.busy": "2022-04-18T12:52:42.866368Z",
     "iopub.status.idle": "2022-04-18T12:52:42.876163Z",
     "shell.execute_reply": "2022-04-18T12:52:42.875198Z"
    },
    "papermill": {
     "duration": 0.026356,
     "end_time": "2022-04-18T12:52:42.878537",
     "exception": false,
     "start_time": "2022-04-18T12:52:42.852181",
     "status": "completed"
    },
    "tags": [],
    "pycharm": {
     "name": "#%%\n"
    }
   },
   "outputs": [],
   "source": [
    "sample['target'] = y_test\n",
    "sample.to_csv('submit.csv',index=False)"
   ]
  },
  {
   "cell_type": "markdown",
   "id": "41ca9569",
   "metadata": {
    "papermill": {
     "duration": 0.01352,
     "end_time": "2022-04-18T12:52:42.905318",
     "exception": false,
     "start_time": "2022-04-18T12:52:42.891798",
     "status": "completed"
    },
    "tags": [],
    "pycharm": {
     "name": "#%% md\n"
    }
   },
   "source": [
    "모델을 통해서 에측한 값을 csv에 저장하기 위해서 .to_csv라는 함수를 사용했다."
   ]
  },
  {
   "cell_type": "code",
   "execution_count": 8,
   "id": "23ece6df",
   "metadata": {
    "execution": {
     "iopub.execute_input": "2022-04-18T12:52:42.935328Z",
     "iopub.status.busy": "2022-04-18T12:52:42.934213Z",
     "iopub.status.idle": "2022-04-18T12:52:43.250693Z",
     "shell.execute_reply": "2022-04-18T12:52:43.249723Z"
    },
    "papermill": {
     "duration": 0.334006,
     "end_time": "2022-04-18T12:52:43.253179",
     "exception": false,
     "start_time": "2022-04-18T12:52:42.919173",
     "status": "completed"
    },
    "tags": [],
    "pycharm": {
     "name": "#%%\n"
    }
   },
   "outputs": [],
   "source": [
    "from sklearn.ensemble import RandomForestClassifier\n",
    "model1 = RandomForestClassifier().fit(X_train,y_train)\n",
    "y_test1 = model1.predict(X_test)"
   ]
  },
  {
   "cell_type": "markdown",
   "id": "4fc998db",
   "metadata": {
    "papermill": {
     "duration": 0.01203,
     "end_time": "2022-04-18T12:52:43.277797",
     "exception": false,
     "start_time": "2022-04-18T12:52:43.265767",
     "status": "completed"
    },
    "tags": [],
    "pycharm": {
     "name": "#%% md\n"
    }
   },
   "source": [
    "해당 문제는 분류 문제로 분류모델을 만들어야겠다고 생각했고, 학습의 데이터의 수가 많고 설명보다는 예측을 필요로 하는 문제이기에 DecisionTreeClassifier보다는 RandomForestClassifier가 더 적합하다고 생각하여 RandomForestClassifier을 선언하고 학습을 시켰다"
   ]
  },
  {
   "cell_type": "code",
   "execution_count": 9,
   "id": "50b04a38",
   "metadata": {
    "execution": {
     "iopub.execute_input": "2022-04-18T12:52:43.304053Z",
     "iopub.status.busy": "2022-04-18T12:52:43.303741Z",
     "iopub.status.idle": "2022-04-18T12:52:43.307459Z",
     "shell.execute_reply": "2022-04-18T12:52:43.306591Z"
    },
    "papermill": {
     "duration": 0.019063,
     "end_time": "2022-04-18T12:52:43.309316",
     "exception": false,
     "start_time": "2022-04-18T12:52:43.290253",
     "status": "completed"
    },
    "tags": [],
    "pycharm": {
     "name": "#%%\n"
    }
   },
   "outputs": [],
   "source": [
    "#sample['target'] = y_test1\n",
    "#sample.to_csv('submit1.csv',index=False)"
   ]
  },
  {
   "cell_type": "markdown",
   "id": "bffc9b4b",
   "metadata": {
    "papermill": {
     "duration": 0.011765,
     "end_time": "2022-04-18T12:52:43.333324",
     "exception": false,
     "start_time": "2022-04-18T12:52:43.321559",
     "status": "completed"
    },
    "tags": [],
    "pycharm": {
     "name": "#%% md\n"
    }
   },
   "source": [
    "모델을 통해서 에측한 값을 csv에 저장하기 위해서 .to_csv라는 함수를 사용했다."
   ]
  },
  {
   "cell_type": "markdown",
   "id": "e510a9b1",
   "metadata": {
    "papermill": {
     "duration": 0.011671,
     "end_time": "2022-04-18T12:52:43.357066",
     "exception": false,
     "start_time": "2022-04-18T12:52:43.345395",
     "status": "completed"
    },
    "tags": [],
    "pycharm": {
     "name": "#%% md\n"
    }
   },
   "source": [
    "LogisticRegression으로 모델을 만들고 파라미터를 default 값으로 설정후 캐글에 제출해보니 0.85245 가 나왔고 RandomForestClassifier로 모델을 만들고 파라미터를 default 값으로 설정후 캐글에 제출해보니 0.83606 가 나왔다. 이를 통해서 분석을 해보자면 해당 데이터에서는 우선 학습데이터가 적어서 KNeighborsClassifier를 사용하지 않았고 해당 문제는 0과 1로 분류하는 문제여서 시그모이드 함수를 사용하는 LogisticRegression이 더 효과가 좋을 것이라고 생각을 했고 또한 해당 데이터는 선형으로 분류가 되는 문제라고 판단을 하였다. 따라서 RandomForestClassifier는 해당 문제에서는 조금 낮은 성능을 보여줄것이라 판단을 했고 이에 캐글 점수로 성능을 분석해본 결과 LogisticRegression의 성능이 더 좋았다. LogisticRegression의 성능을 더 높이기 위해서 파라미터를 설정해보았지만 성능이 더 높아지기 보다는 낮아지거나 같았다."
   ]
  }
 ],
 "metadata": {
  "kernelspec": {
   "display_name": "Python 3",
   "language": "python",
   "name": "python3"
  },
  "language_info": {
   "codemirror_mode": {
    "name": "ipython",
    "version": 3
   },
   "file_extension": ".py",
   "mimetype": "text/x-python",
   "name": "python",
   "nbconvert_exporter": "python",
   "pygments_lexer": "ipython3",
   "version": "3.7.12"
  },
  "papermill": {
   "default_parameters": {},
   "duration": 13.274843,
   "end_time": "2022-04-18T12:52:44.292300",
   "environment_variables": {},
   "exception": null,
   "input_path": "__notebook__.ipynb",
   "output_path": "__notebook__.ipynb",
   "parameters": {},
   "start_time": "2022-04-18T12:52:31.017457",
   "version": "2.3.4"
  }
 },
 "nbformat": 4,
 "nbformat_minor": 5
}