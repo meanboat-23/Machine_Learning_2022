{
 "cells": [
  {
   "cell_type": "code",
   "execution_count": 1,
   "id": "b514a25c",
   "metadata": {
    "_cell_guid": "b1076dfc-b9ad-4769-8c92-a6c4dae69d19",
    "_uuid": "8f2839f25d086af736a60e9eeb907d3b93b6e0e5",
    "execution": {
     "iopub.execute_input": "2022-04-18T11:49:49.190294Z",
     "iopub.status.busy": "2022-04-18T11:49:49.189133Z",
     "iopub.status.idle": "2022-04-18T11:49:49.201966Z",
     "shell.execute_reply": "2022-04-18T11:49:49.200841Z"
    },
    "papermill": {
     "duration": 0.030166,
     "end_time": "2022-04-18T11:49:49.204905",
     "exception": false,
     "start_time": "2022-04-18T11:49:49.174739",
     "status": "completed"
    },
    "tags": []
   },
   "outputs": [
    {
     "name": "stdout",
     "output_type": "stream",
     "text": [
      "/kaggle/input/2022-ml-midterm-p4/sample.csv\n",
      "/kaggle/input/2022-ml-midterm-p4/train.csv\n",
      "/kaggle/input/2022-ml-midterm-p4/test.csv\n"
     ]
    }
   ],
   "source": [
    "# This Python 3 environment comes with many helpful analytics libraries installed\n",
    "# It is defined by the kaggle/python Docker image: https://github.com/kaggle/docker-python\n",
    "# For example, here's several helpful packages to load\n",
    "\n",
    "import numpy as np # linear algebra\n",
    "import pandas as pd # data processing, CSV file I/O (e.g. pd.read_csv)\n",
    "\n",
    "# Input data files are available in the read-only \"../input/\" directory\n",
    "# For example, running this (by clicking run or pressing Shift+Enter) will list all files under the input directory\n",
    "\n",
    "import os\n",
    "for dirname, _, filenames in os.walk('/kaggle/input'):\n",
    "    for filename in filenames:\n",
    "        print(os.path.join(dirname, filename))\n",
    "\n",
    "# You can write up to 20GB to the current directory (/kaggle/working/) that gets preserved as output when you create a version using \"Save & Run All\" \n",
    "# You can also write temporary files to /kaggle/temp/, but they won't be saved outside of the current session"
   ]
  },
  {
   "cell_type": "code",
   "execution_count": 2,
   "id": "a25bbf2b",
   "metadata": {
    "execution": {
     "iopub.execute_input": "2022-04-18T11:49:49.230379Z",
     "iopub.status.busy": "2022-04-18T11:49:49.229694Z",
     "iopub.status.idle": "2022-04-18T11:49:49.233755Z",
     "shell.execute_reply": "2022-04-18T11:49:49.233185Z"
    },
    "papermill": {
     "duration": 0.018143,
     "end_time": "2022-04-18T11:49:49.235580",
     "exception": false,
     "start_time": "2022-04-18T11:49:49.217437",
     "status": "completed"
    },
    "tags": []
   },
   "outputs": [],
   "source": [
    "import random\n",
    "import os\n",
    "seed = 42\n",
    "random.seed(seed)\n",
    "np.random.seed(seed)\n",
    "os.environ[\"PYTHONHASHSEED\"] = str(seed)"
   ]
  },
  {
   "cell_type": "code",
   "execution_count": 3,
   "id": "db0fbbb5",
   "metadata": {
    "execution": {
     "iopub.execute_input": "2022-04-18T11:49:49.259721Z",
     "iopub.status.busy": "2022-04-18T11:49:49.259184Z",
     "iopub.status.idle": "2022-04-18T11:49:49.366379Z",
     "shell.execute_reply": "2022-04-18T11:49:49.365674Z"
    },
    "papermill": {
     "duration": 0.121785,
     "end_time": "2022-04-18T11:49:49.368721",
     "exception": false,
     "start_time": "2022-04-18T11:49:49.246936",
     "status": "completed"
    },
    "tags": []
   },
   "outputs": [],
   "source": [
    "sample = pd.read_csv('/kaggle/input/2022-ml-midterm-p4/sample.csv')\n",
    "train = pd.read_csv('/kaggle/input/2022-ml-midterm-p4/train.csv')\n",
    "test = pd.read_csv('/kaggle/input/2022-ml-midterm-p4/test.csv')"
   ]
  },
  {
   "cell_type": "markdown",
   "id": "f6ae4173",
   "metadata": {
    "papermill": {
     "duration": 0.01103,
     "end_time": "2022-04-18T11:49:49.391782",
     "exception": false,
     "start_time": "2022-04-18T11:49:49.380752",
     "status": "completed"
    },
    "tags": []
   },
   "source": [
    "데이터를 불러오기 위해서 pd.read_csv() 함수를 사용하였다."
   ]
  },
  {
   "cell_type": "code",
   "execution_count": 4,
   "id": "3e993638",
   "metadata": {
    "execution": {
     "iopub.execute_input": "2022-04-18T11:49:49.416149Z",
     "iopub.status.busy": "2022-04-18T11:49:49.415581Z",
     "iopub.status.idle": "2022-04-18T11:49:49.446785Z",
     "shell.execute_reply": "2022-04-18T11:49:49.445911Z"
    },
    "papermill": {
     "duration": 0.047161,
     "end_time": "2022-04-18T11:49:49.450226",
     "exception": false,
     "start_time": "2022-04-18T11:49:49.403065",
     "status": "completed"
    },
    "tags": []
   },
   "outputs": [
    {
     "data": {
      "text/html": [
       "<div>\n",
       "<style scoped>\n",
       "    .dataframe tbody tr th:only-of-type {\n",
       "        vertical-align: middle;\n",
       "    }\n",
       "\n",
       "    .dataframe tbody tr th {\n",
       "        vertical-align: top;\n",
       "    }\n",
       "\n",
       "    .dataframe thead th {\n",
       "        text-align: right;\n",
       "    }\n",
       "</style>\n",
       "<table border=\"1\" class=\"dataframe\">\n",
       "  <thead>\n",
       "    <tr style=\"text-align: right;\">\n",
       "      <th></th>\n",
       "      <th>ID</th>\n",
       "      <th>company</th>\n",
       "      <th>model</th>\n",
       "      <th>year</th>\n",
       "      <th>transmission</th>\n",
       "      <th>mileage</th>\n",
       "      <th>fueltype</th>\n",
       "      <th>tax</th>\n",
       "      <th>mpg</th>\n",
       "      <th>engineSize</th>\n",
       "      <th>price</th>\n",
       "    </tr>\n",
       "  </thead>\n",
       "  <tbody>\n",
       "    <tr>\n",
       "      <th>0</th>\n",
       "      <td>0</td>\n",
       "      <td>4</td>\n",
       "      <td>Auris</td>\n",
       "      <td>2015</td>\n",
       "      <td>1</td>\n",
       "      <td>47541</td>\n",
       "      <td>4</td>\n",
       "      <td>145</td>\n",
       "      <td>46.3</td>\n",
       "      <td>1.6</td>\n",
       "      <td>8095</td>\n",
       "    </tr>\n",
       "    <tr>\n",
       "      <th>1</th>\n",
       "      <td>1</td>\n",
       "      <td>0</td>\n",
       "      <td>X2</td>\n",
       "      <td>2018</td>\n",
       "      <td>3</td>\n",
       "      <td>5000</td>\n",
       "      <td>0</td>\n",
       "      <td>145</td>\n",
       "      <td>50.4</td>\n",
       "      <td>2.0</td>\n",
       "      <td>21726</td>\n",
       "    </tr>\n",
       "    <tr>\n",
       "      <th>2</th>\n",
       "      <td>2</td>\n",
       "      <td>2</td>\n",
       "      <td>Focus</td>\n",
       "      <td>2017</td>\n",
       "      <td>3</td>\n",
       "      <td>47018</td>\n",
       "      <td>4</td>\n",
       "      <td>145</td>\n",
       "      <td>51.4</td>\n",
       "      <td>1.0</td>\n",
       "      <td>10490</td>\n",
       "    </tr>\n",
       "    <tr>\n",
       "      <th>3</th>\n",
       "      <td>3</td>\n",
       "      <td>2</td>\n",
       "      <td>Focus</td>\n",
       "      <td>2020</td>\n",
       "      <td>1</td>\n",
       "      <td>1550</td>\n",
       "      <td>4</td>\n",
       "      <td>145</td>\n",
       "      <td>49.6</td>\n",
       "      <td>1.0</td>\n",
       "      <td>17490</td>\n",
       "    </tr>\n",
       "    <tr>\n",
       "      <th>4</th>\n",
       "      <td>4</td>\n",
       "      <td>0</td>\n",
       "      <td>3 Series</td>\n",
       "      <td>2017</td>\n",
       "      <td>3</td>\n",
       "      <td>23505</td>\n",
       "      <td>0</td>\n",
       "      <td>145</td>\n",
       "      <td>64.2</td>\n",
       "      <td>2.0</td>\n",
       "      <td>18995</td>\n",
       "    </tr>\n",
       "    <tr>\n",
       "      <th>...</th>\n",
       "      <td>...</td>\n",
       "      <td>...</td>\n",
       "      <td>...</td>\n",
       "      <td>...</td>\n",
       "      <td>...</td>\n",
       "      <td>...</td>\n",
       "      <td>...</td>\n",
       "      <td>...</td>\n",
       "      <td>...</td>\n",
       "      <td>...</td>\n",
       "      <td>...</td>\n",
       "    </tr>\n",
       "    <tr>\n",
       "      <th>34165</th>\n",
       "      <td>34165</td>\n",
       "      <td>0</td>\n",
       "      <td>1 Series</td>\n",
       "      <td>2017</td>\n",
       "      <td>1</td>\n",
       "      <td>39201</td>\n",
       "      <td>4</td>\n",
       "      <td>150</td>\n",
       "      <td>36.2</td>\n",
       "      <td>3.0</td>\n",
       "      <td>18480</td>\n",
       "    </tr>\n",
       "    <tr>\n",
       "      <th>34166</th>\n",
       "      <td>34166</td>\n",
       "      <td>2</td>\n",
       "      <td>Fiesta</td>\n",
       "      <td>2019</td>\n",
       "      <td>1</td>\n",
       "      <td>2000</td>\n",
       "      <td>4</td>\n",
       "      <td>145</td>\n",
       "      <td>58.9</td>\n",
       "      <td>1.0</td>\n",
       "      <td>16495</td>\n",
       "    </tr>\n",
       "    <tr>\n",
       "      <th>34167</th>\n",
       "      <td>34167</td>\n",
       "      <td>2</td>\n",
       "      <td>Fiesta</td>\n",
       "      <td>2019</td>\n",
       "      <td>1</td>\n",
       "      <td>15820</td>\n",
       "      <td>4</td>\n",
       "      <td>145</td>\n",
       "      <td>60.1</td>\n",
       "      <td>1.0</td>\n",
       "      <td>13000</td>\n",
       "    </tr>\n",
       "    <tr>\n",
       "      <th>34168</th>\n",
       "      <td>34168</td>\n",
       "      <td>4</td>\n",
       "      <td>Hilux</td>\n",
       "      <td>2018</td>\n",
       "      <td>1</td>\n",
       "      <td>13099</td>\n",
       "      <td>0</td>\n",
       "      <td>260</td>\n",
       "      <td>40.4</td>\n",
       "      <td>2.4</td>\n",
       "      <td>20998</td>\n",
       "    </tr>\n",
       "    <tr>\n",
       "      <th>34169</th>\n",
       "      <td>34169</td>\n",
       "      <td>2</td>\n",
       "      <td>Fiesta</td>\n",
       "      <td>2013</td>\n",
       "      <td>1</td>\n",
       "      <td>32638</td>\n",
       "      <td>4</td>\n",
       "      <td>30</td>\n",
       "      <td>54.3</td>\n",
       "      <td>1.2</td>\n",
       "      <td>6800</td>\n",
       "    </tr>\n",
       "  </tbody>\n",
       "</table>\n",
       "<p>34170 rows × 11 columns</p>\n",
       "</div>"
      ],
      "text/plain": [
       "          ID  company     model  year  transmission  mileage  fueltype  tax  \\\n",
       "0          0        4     Auris  2015             1    47541         4  145   \n",
       "1          1        0        X2  2018             3     5000         0  145   \n",
       "2          2        2     Focus  2017             3    47018         4  145   \n",
       "3          3        2     Focus  2020             1     1550         4  145   \n",
       "4          4        0  3 Series  2017             3    23505         0  145   \n",
       "...      ...      ...       ...   ...           ...      ...       ...  ...   \n",
       "34165  34165        0  1 Series  2017             1    39201         4  150   \n",
       "34166  34166        2    Fiesta  2019             1     2000         4  145   \n",
       "34167  34167        2    Fiesta  2019             1    15820         4  145   \n",
       "34168  34168        4     Hilux  2018             1    13099         0  260   \n",
       "34169  34169        2    Fiesta  2013             1    32638         4   30   \n",
       "\n",
       "        mpg  engineSize  price  \n",
       "0      46.3         1.6   8095  \n",
       "1      50.4         2.0  21726  \n",
       "2      51.4         1.0  10490  \n",
       "3      49.6         1.0  17490  \n",
       "4      64.2         2.0  18995  \n",
       "...     ...         ...    ...  \n",
       "34165  36.2         3.0  18480  \n",
       "34166  58.9         1.0  16495  \n",
       "34167  60.1         1.0  13000  \n",
       "34168  40.4         2.4  20998  \n",
       "34169  54.3         1.2   6800  \n",
       "\n",
       "[34170 rows x 11 columns]"
      ]
     },
     "execution_count": 4,
     "metadata": {},
     "output_type": "execute_result"
    }
   ],
   "source": [
    "train"
   ]
  },
  {
   "cell_type": "code",
   "execution_count": 5,
   "id": "c6f6ba6c",
   "metadata": {
    "execution": {
     "iopub.execute_input": "2022-04-18T11:49:49.482012Z",
     "iopub.status.busy": "2022-04-18T11:49:49.481073Z",
     "iopub.status.idle": "2022-04-18T11:49:49.496131Z",
     "shell.execute_reply": "2022-04-18T11:49:49.495179Z"
    },
    "papermill": {
     "duration": 0.034735,
     "end_time": "2022-04-18T11:49:49.498440",
     "exception": false,
     "start_time": "2022-04-18T11:49:49.463705",
     "status": "completed"
    },
    "tags": []
   },
   "outputs": [],
   "source": [
    "X_train = train.drop(['ID','price','model'],axis=1)\n",
    "y_train = train['price']\n",
    "X_test = test.drop(['ID','model'],axis=1)"
   ]
  },
  {
   "cell_type": "markdown",
   "id": "e873d268",
   "metadata": {
    "papermill": {
     "duration": 0.014989,
     "end_time": "2022-04-18T11:49:49.525202",
     "exception": false,
     "start_time": "2022-04-18T11:49:49.510213",
     "status": "completed"
    },
    "tags": []
   },
   "source": [
    "데이터를 살펴보니 'ID'가 공통적으로 훈련데이터와 학습데이터에 들어있어서 제거해주었고, 훈련데이터에서는 학습을 하기위해서 'price'라는 라벨을 따로 떼서 다른 변수에 담아주었다. 그리고 'model'이 있는데 이는 학습할때 크게 중요하지 않다고 판단하여 훈련데이터와 학습데이터에서 제거해주었다."
   ]
  },
  {
   "cell_type": "code",
   "execution_count": 6,
   "id": "6dfb4f45",
   "metadata": {
    "execution": {
     "iopub.execute_input": "2022-04-18T11:49:49.551199Z",
     "iopub.status.busy": "2022-04-18T11:49:49.550691Z",
     "iopub.status.idle": "2022-04-18T11:49:51.019321Z",
     "shell.execute_reply": "2022-04-18T11:49:51.018333Z"
    },
    "papermill": {
     "duration": 1.484936,
     "end_time": "2022-04-18T11:49:51.022048",
     "exception": false,
     "start_time": "2022-04-18T11:49:49.537112",
     "status": "completed"
    },
    "tags": []
   },
   "outputs": [],
   "source": [
    "from sklearn.neighbors import KNeighborsRegressor\n",
    "model = KNeighborsRegressor().fit(X_train,y_train)\n",
    "y_test = model.predict(X_test)"
   ]
  },
  {
   "cell_type": "markdown",
   "id": "b2535f25",
   "metadata": {
    "papermill": {
     "duration": 0.012787,
     "end_time": "2022-04-18T11:49:51.048295",
     "exception": false,
     "start_time": "2022-04-18T11:49:51.035508",
     "status": "completed"
    },
    "tags": []
   },
   "source": [
    "해당 문제는 중고차 가격을 예측하는 문제로 회귀 문제에 해당하기에 먼저 회귀모델을 만들어야한다고 생각했고 학습데이터의 수가 많으므로 KNeighborsRegressor을 선언하고 학습을 시켰다."
   ]
  },
  {
   "cell_type": "code",
   "execution_count": 7,
   "id": "a018374e",
   "metadata": {
    "execution": {
     "iopub.execute_input": "2022-04-18T11:49:51.073562Z",
     "iopub.status.busy": "2022-04-18T11:49:51.072952Z",
     "iopub.status.idle": "2022-04-18T11:49:51.076730Z",
     "shell.execute_reply": "2022-04-18T11:49:51.076074Z"
    },
    "papermill": {
     "duration": 0.018691,
     "end_time": "2022-04-18T11:49:51.078636",
     "exception": false,
     "start_time": "2022-04-18T11:49:51.059945",
     "status": "completed"
    },
    "tags": []
   },
   "outputs": [],
   "source": [
    "#sample['price'] = y_test\n",
    "#sample.to_csv('submit.csv',index=False)"
   ]
  },
  {
   "cell_type": "markdown",
   "id": "71bf79dd",
   "metadata": {
    "papermill": {
     "duration": 0.011291,
     "end_time": "2022-04-18T11:49:51.102508",
     "exception": false,
     "start_time": "2022-04-18T11:49:51.091217",
     "status": "completed"
    },
    "tags": []
   },
   "source": [
    "모델을 통해서 에측한 값을 csv에 저장하기 위해서 .to_csv라는 함수를 사용했다."
   ]
  },
  {
   "cell_type": "code",
   "execution_count": 8,
   "id": "52e710f8",
   "metadata": {
    "execution": {
     "iopub.execute_input": "2022-04-18T11:49:51.127612Z",
     "iopub.status.busy": "2022-04-18T11:49:51.127035Z",
     "iopub.status.idle": "2022-04-18T11:50:00.715807Z",
     "shell.execute_reply": "2022-04-18T11:50:00.714740Z"
    },
    "papermill": {
     "duration": 9.604305,
     "end_time": "2022-04-18T11:50:00.718375",
     "exception": false,
     "start_time": "2022-04-18T11:49:51.114070",
     "status": "completed"
    },
    "tags": []
   },
   "outputs": [],
   "source": [
    "from sklearn.ensemble import RandomForestRegressor\n",
    "model1 = RandomForestRegressor().fit(X_train,y_train)\n",
    "y_test1 = model1.predict(X_test)"
   ]
  },
  {
   "cell_type": "markdown",
   "id": "ac853f47",
   "metadata": {
    "papermill": {
     "duration": 0.01116,
     "end_time": "2022-04-18T11:50:00.741103",
     "exception": false,
     "start_time": "2022-04-18T11:50:00.729943",
     "status": "completed"
    },
    "tags": []
   },
   "source": [
    "해당 문제는 회귀 문제로 회귀모델을 만들어야겠다고 생각했고, 학습의 데이터의 수가 많고 설명보다는 예측을 필요로 하는 문제이기에 DecisionTreeRegressor보다는 RandomForestRegressor가 더 적합하다고 생각하여 RandomForestRegressor을 선언하고 학습을 시켰다."
   ]
  },
  {
   "cell_type": "code",
   "execution_count": 9,
   "id": "0cfd134d",
   "metadata": {
    "execution": {
     "iopub.execute_input": "2022-04-18T11:50:00.768033Z",
     "iopub.status.busy": "2022-04-18T11:50:00.767008Z",
     "iopub.status.idle": "2022-04-18T11:50:00.805745Z",
     "shell.execute_reply": "2022-04-18T11:50:00.804734Z"
    },
    "papermill": {
     "duration": 0.055543,
     "end_time": "2022-04-18T11:50:00.808589",
     "exception": false,
     "start_time": "2022-04-18T11:50:00.753046",
     "status": "completed"
    },
    "tags": []
   },
   "outputs": [],
   "source": [
    "sample['price'] = y_test1\n",
    "sample.to_csv('submit1.csv',index=False)"
   ]
  },
  {
   "cell_type": "markdown",
   "id": "9a3c006a",
   "metadata": {
    "papermill": {
     "duration": 0.011636,
     "end_time": "2022-04-18T11:50:00.832952",
     "exception": false,
     "start_time": "2022-04-18T11:50:00.821316",
     "status": "completed"
    },
    "tags": []
   },
   "source": [
    "모델을 통해서 에측한 값을 csv에 저장하기 위해서 .to_csv라는 함수를 사용했다."
   ]
  },
  {
   "cell_type": "markdown",
   "id": "198b6402",
   "metadata": {
    "papermill": {
     "duration": 0.013177,
     "end_time": "2022-04-18T11:50:00.857819",
     "exception": false,
     "start_time": "2022-04-18T11:50:00.844642",
     "status": "completed"
    },
    "tags": []
   },
   "source": [
    "KNeighborsRegressor으로 모델을 만들고 파라미터를 default 값으로 설정후 캐글에 제출해보니 4961.90363 가 나왔고 RandomForestRegressor로 모델을 만들고 파라미터를 default 값으로 설정후 캐글에 제출해보니 1365.23769 가 나왔다. 이를 통해서 분석을 해보자면 해당 데이터에서는 우선 학습데이터가 많아서 KNeighborsRegressor가 더 성능이 좋을 것으로 예측했지만 오히려 RandomForestRegressor가 더 좋은 성능을 보이면서 해당 데이터에 더 적합하다고 생각이 들고 KNeighborsRegressor을 사용하려면 더 많은 파라미터를 조정하여서 성능을 높혀야한다고 생각한다."
   ]
  }
 ],
 "metadata": {
  "kernelspec": {
   "display_name": "Python 3",
   "language": "python",
   "name": "python3"
  },
  "language_info": {
   "codemirror_mode": {
    "name": "ipython",
    "version": 3
   },
   "file_extension": ".py",
   "mimetype": "text/x-python",
   "name": "python",
   "nbconvert_exporter": "python",
   "pygments_lexer": "ipython3",
   "version": "3.7.12"
  },
  "papermill": {
   "default_parameters": {},
   "duration": 21.679077,
   "end_time": "2022-04-18T11:50:01.692486",
   "environment_variables": {},
   "exception": null,
   "input_path": "__notebook__.ipynb",
   "output_path": "__notebook__.ipynb",
   "parameters": {},
   "start_time": "2022-04-18T11:49:40.013409",
   "version": "2.3.4"
  }
 },
 "nbformat": 4,
 "nbformat_minor": 5
}
