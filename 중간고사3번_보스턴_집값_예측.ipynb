{
 "cells": [
  {
   "cell_type": "code",
   "execution_count": 1,
   "id": "37e94a45",
   "metadata": {
    "_cell_guid": "b1076dfc-b9ad-4769-8c92-a6c4dae69d19",
    "_uuid": "8f2839f25d086af736a60e9eeb907d3b93b6e0e5",
    "execution": {
     "iopub.execute_input": "2022-04-18T12:56:01.973219Z",
     "iopub.status.busy": "2022-04-18T12:56:01.972721Z",
     "iopub.status.idle": "2022-04-18T12:56:01.985920Z",
     "shell.execute_reply": "2022-04-18T12:56:01.985134Z"
    },
    "papermill": {
     "duration": 0.038731,
     "end_time": "2022-04-18T12:56:01.989306",
     "exception": false,
     "start_time": "2022-04-18T12:56:01.950575",
     "status": "completed"
    },
    "tags": []
   },
   "outputs": [
    {
     "name": "stdout",
     "output_type": "stream",
     "text": [
      "/kaggle/input/2022-ml-midterm-p3/submit.csv\n",
      "/kaggle/input/2022-ml-midterm-p3/train.csv\n",
      "/kaggle/input/2022-ml-midterm-p3/test.csv\n"
     ]
    }
   ],
   "source": [
    "# This Python 3 environment comes with many helpful analytics libraries installed\n",
    "# It is defined by the kaggle/python Docker image: https://github.com/kaggle/docker-python\n",
    "# For example, here's several helpful packages to load\n",
    "\n",
    "import numpy as np # linear algebra\n",
    "import pandas as pd # data processing, CSV file I/O (e.g. pd.read_csv)\n",
    "\n",
    "# Input data files are available in the read-only \"../input/\" directory\n",
    "# For example, running this (by clicking run or pressing Shift+Enter) will list all files under the input directory\n",
    "\n",
    "import os\n",
    "for dirname, _, filenames in os.walk('/kaggle/input'):\n",
    "    for filename in filenames:\n",
    "        print(os.path.join(dirname, filename))\n",
    "\n",
    "# You can write up to 20GB to the current directory (/kaggle/working/) that gets preserved as output when you create a version using \"Save & Run All\" \n",
    "# You can also write temporary files to /kaggle/temp/, but they won't be saved outside of the current session"
   ]
  },
  {
   "cell_type": "code",
   "execution_count": 2,
   "id": "54d22956",
   "metadata": {
    "execution": {
     "iopub.execute_input": "2022-04-18T12:56:02.031487Z",
     "iopub.status.busy": "2022-04-18T12:56:02.031134Z",
     "iopub.status.idle": "2022-04-18T12:56:02.035560Z",
     "shell.execute_reply": "2022-04-18T12:56:02.034828Z"
    },
    "papermill": {
     "duration": 0.026848,
     "end_time": "2022-04-18T12:56:02.037550",
     "exception": false,
     "start_time": "2022-04-18T12:56:02.010702",
     "status": "completed"
    },
    "tags": []
   },
   "outputs": [],
   "source": [
    "import random\n",
    "import os\n",
    "seed = 42\n",
    "random.seed(seed)\n",
    "np.random.seed(seed)\n",
    "os.environ[\"PYTHONHASHSEED\"] = str(seed)"
   ]
  },
  {
   "cell_type": "code",
   "execution_count": 3,
   "id": "e8927947",
   "metadata": {
    "execution": {
     "iopub.execute_input": "2022-04-18T12:56:02.077376Z",
     "iopub.status.busy": "2022-04-18T12:56:02.076949Z",
     "iopub.status.idle": "2022-04-18T12:56:02.105260Z",
     "shell.execute_reply": "2022-04-18T12:56:02.104365Z"
    },
    "papermill": {
     "duration": 0.051187,
     "end_time": "2022-04-18T12:56:02.107764",
     "exception": false,
     "start_time": "2022-04-18T12:56:02.056577",
     "status": "completed"
    },
    "tags": []
   },
   "outputs": [],
   "source": [
    "sample = pd.read_csv('/kaggle/input/2022-ml-midterm-p3/submit.csv')\n",
    "train = pd.read_csv('/kaggle/input/2022-ml-midterm-p3/train.csv')\n",
    "test = pd.read_csv('/kaggle/input/2022-ml-midterm-p3/test.csv')"
   ]
  },
  {
   "cell_type": "markdown",
   "id": "fcafac06",
   "metadata": {
    "papermill": {
     "duration": 0.019001,
     "end_time": "2022-04-18T12:56:02.146503",
     "exception": false,
     "start_time": "2022-04-18T12:56:02.127502",
     "status": "completed"
    },
    "tags": []
   },
   "source": [
    "데이터를 불러오기 위해서 pd.read_csv() 함수를 사용하였다."
   ]
  },
  {
   "cell_type": "code",
   "execution_count": 4,
   "id": "39633dd4",
   "metadata": {
    "execution": {
     "iopub.execute_input": "2022-04-18T12:56:02.187479Z",
     "iopub.status.busy": "2022-04-18T12:56:02.186930Z",
     "iopub.status.idle": "2022-04-18T12:56:02.228198Z",
     "shell.execute_reply": "2022-04-18T12:56:02.227188Z"
    },
    "papermill": {
     "duration": 0.064852,
     "end_time": "2022-04-18T12:56:02.230392",
     "exception": false,
     "start_time": "2022-04-18T12:56:02.165540",
     "status": "completed"
    },
    "tags": []
   },
   "outputs": [
    {
     "data": {
      "text/html": [
       "<div>\n",
       "<style scoped>\n",
       "    .dataframe tbody tr th:only-of-type {\n",
       "        vertical-align: middle;\n",
       "    }\n",
       "\n",
       "    .dataframe tbody tr th {\n",
       "        vertical-align: top;\n",
       "    }\n",
       "\n",
       "    .dataframe thead th {\n",
       "        text-align: right;\n",
       "    }\n",
       "</style>\n",
       "<table border=\"1\" class=\"dataframe\">\n",
       "  <thead>\n",
       "    <tr style=\"text-align: right;\">\n",
       "      <th></th>\n",
       "      <th>index</th>\n",
       "      <th>a</th>\n",
       "      <th>b</th>\n",
       "      <th>c</th>\n",
       "      <th>d</th>\n",
       "      <th>e</th>\n",
       "      <th>f</th>\n",
       "      <th>g</th>\n",
       "      <th>h</th>\n",
       "      <th>i</th>\n",
       "      <th>j</th>\n",
       "      <th>k</th>\n",
       "      <th>l</th>\n",
       "      <th>m</th>\n",
       "      <th>price</th>\n",
       "    </tr>\n",
       "  </thead>\n",
       "  <tbody>\n",
       "    <tr>\n",
       "      <th>0</th>\n",
       "      <td>0</td>\n",
       "      <td>0.14150</td>\n",
       "      <td>0.0</td>\n",
       "      <td>6.91</td>\n",
       "      <td>0</td>\n",
       "      <td>0.448</td>\n",
       "      <td>6.169</td>\n",
       "      <td>6.6</td>\n",
       "      <td>5.7209</td>\n",
       "      <td>3</td>\n",
       "      <td>233</td>\n",
       "      <td>17.9</td>\n",
       "      <td>383.37</td>\n",
       "      <td>5.81</td>\n",
       "      <td>25.3</td>\n",
       "    </tr>\n",
       "    <tr>\n",
       "      <th>1</th>\n",
       "      <td>1</td>\n",
       "      <td>0.15445</td>\n",
       "      <td>25.0</td>\n",
       "      <td>5.13</td>\n",
       "      <td>0</td>\n",
       "      <td>0.453</td>\n",
       "      <td>6.145</td>\n",
       "      <td>29.2</td>\n",
       "      <td>7.8148</td>\n",
       "      <td>8</td>\n",
       "      <td>284</td>\n",
       "      <td>19.7</td>\n",
       "      <td>390.68</td>\n",
       "      <td>6.86</td>\n",
       "      <td>23.3</td>\n",
       "    </tr>\n",
       "    <tr>\n",
       "      <th>2</th>\n",
       "      <td>2</td>\n",
       "      <td>16.81180</td>\n",
       "      <td>0.0</td>\n",
       "      <td>18.10</td>\n",
       "      <td>0</td>\n",
       "      <td>0.700</td>\n",
       "      <td>5.277</td>\n",
       "      <td>98.1</td>\n",
       "      <td>1.4261</td>\n",
       "      <td>24</td>\n",
       "      <td>666</td>\n",
       "      <td>20.2</td>\n",
       "      <td>396.90</td>\n",
       "      <td>30.81</td>\n",
       "      <td>7.2</td>\n",
       "    </tr>\n",
       "    <tr>\n",
       "      <th>3</th>\n",
       "      <td>3</td>\n",
       "      <td>0.05646</td>\n",
       "      <td>0.0</td>\n",
       "      <td>12.83</td>\n",
       "      <td>0</td>\n",
       "      <td>0.437</td>\n",
       "      <td>6.232</td>\n",
       "      <td>53.7</td>\n",
       "      <td>5.0141</td>\n",
       "      <td>5</td>\n",
       "      <td>398</td>\n",
       "      <td>18.7</td>\n",
       "      <td>386.40</td>\n",
       "      <td>12.34</td>\n",
       "      <td>21.2</td>\n",
       "    </tr>\n",
       "    <tr>\n",
       "      <th>4</th>\n",
       "      <td>4</td>\n",
       "      <td>8.79212</td>\n",
       "      <td>0.0</td>\n",
       "      <td>18.10</td>\n",
       "      <td>0</td>\n",
       "      <td>0.584</td>\n",
       "      <td>5.565</td>\n",
       "      <td>70.6</td>\n",
       "      <td>2.0635</td>\n",
       "      <td>24</td>\n",
       "      <td>666</td>\n",
       "      <td>20.2</td>\n",
       "      <td>3.65</td>\n",
       "      <td>17.16</td>\n",
       "      <td>11.7</td>\n",
       "    </tr>\n",
       "    <tr>\n",
       "      <th>...</th>\n",
       "      <td>...</td>\n",
       "      <td>...</td>\n",
       "      <td>...</td>\n",
       "      <td>...</td>\n",
       "      <td>...</td>\n",
       "      <td>...</td>\n",
       "      <td>...</td>\n",
       "      <td>...</td>\n",
       "      <td>...</td>\n",
       "      <td>...</td>\n",
       "      <td>...</td>\n",
       "      <td>...</td>\n",
       "      <td>...</td>\n",
       "      <td>...</td>\n",
       "      <td>...</td>\n",
       "    </tr>\n",
       "    <tr>\n",
       "      <th>399</th>\n",
       "      <td>399</td>\n",
       "      <td>0.03548</td>\n",
       "      <td>80.0</td>\n",
       "      <td>3.64</td>\n",
       "      <td>0</td>\n",
       "      <td>0.392</td>\n",
       "      <td>5.876</td>\n",
       "      <td>19.1</td>\n",
       "      <td>9.2203</td>\n",
       "      <td>1</td>\n",
       "      <td>315</td>\n",
       "      <td>16.4</td>\n",
       "      <td>395.18</td>\n",
       "      <td>9.25</td>\n",
       "      <td>20.9</td>\n",
       "    </tr>\n",
       "    <tr>\n",
       "      <th>400</th>\n",
       "      <td>400</td>\n",
       "      <td>0.09164</td>\n",
       "      <td>0.0</td>\n",
       "      <td>10.81</td>\n",
       "      <td>0</td>\n",
       "      <td>0.413</td>\n",
       "      <td>6.065</td>\n",
       "      <td>7.8</td>\n",
       "      <td>5.2873</td>\n",
       "      <td>4</td>\n",
       "      <td>305</td>\n",
       "      <td>19.2</td>\n",
       "      <td>390.91</td>\n",
       "      <td>5.52</td>\n",
       "      <td>22.8</td>\n",
       "    </tr>\n",
       "    <tr>\n",
       "      <th>401</th>\n",
       "      <td>401</td>\n",
       "      <td>5.87205</td>\n",
       "      <td>0.0</td>\n",
       "      <td>18.10</td>\n",
       "      <td>0</td>\n",
       "      <td>0.693</td>\n",
       "      <td>6.405</td>\n",
       "      <td>96.0</td>\n",
       "      <td>1.6768</td>\n",
       "      <td>24</td>\n",
       "      <td>666</td>\n",
       "      <td>20.2</td>\n",
       "      <td>396.90</td>\n",
       "      <td>19.37</td>\n",
       "      <td>12.5</td>\n",
       "    </tr>\n",
       "    <tr>\n",
       "      <th>402</th>\n",
       "      <td>402</td>\n",
       "      <td>0.33045</td>\n",
       "      <td>0.0</td>\n",
       "      <td>6.20</td>\n",
       "      <td>0</td>\n",
       "      <td>0.507</td>\n",
       "      <td>6.086</td>\n",
       "      <td>61.5</td>\n",
       "      <td>3.6519</td>\n",
       "      <td>8</td>\n",
       "      <td>307</td>\n",
       "      <td>17.4</td>\n",
       "      <td>376.75</td>\n",
       "      <td>10.88</td>\n",
       "      <td>24.0</td>\n",
       "    </tr>\n",
       "    <tr>\n",
       "      <th>403</th>\n",
       "      <td>403</td>\n",
       "      <td>0.08014</td>\n",
       "      <td>0.0</td>\n",
       "      <td>5.96</td>\n",
       "      <td>0</td>\n",
       "      <td>0.499</td>\n",
       "      <td>5.850</td>\n",
       "      <td>41.5</td>\n",
       "      <td>3.9342</td>\n",
       "      <td>5</td>\n",
       "      <td>279</td>\n",
       "      <td>19.2</td>\n",
       "      <td>396.90</td>\n",
       "      <td>8.77</td>\n",
       "      <td>21.0</td>\n",
       "    </tr>\n",
       "  </tbody>\n",
       "</table>\n",
       "<p>404 rows × 15 columns</p>\n",
       "</div>"
      ],
      "text/plain": [
       "     index         a     b      c  d      e      f     g       h   i    j  \\\n",
       "0        0   0.14150   0.0   6.91  0  0.448  6.169   6.6  5.7209   3  233   \n",
       "1        1   0.15445  25.0   5.13  0  0.453  6.145  29.2  7.8148   8  284   \n",
       "2        2  16.81180   0.0  18.10  0  0.700  5.277  98.1  1.4261  24  666   \n",
       "3        3   0.05646   0.0  12.83  0  0.437  6.232  53.7  5.0141   5  398   \n",
       "4        4   8.79212   0.0  18.10  0  0.584  5.565  70.6  2.0635  24  666   \n",
       "..     ...       ...   ...    ... ..    ...    ...   ...     ...  ..  ...   \n",
       "399    399   0.03548  80.0   3.64  0  0.392  5.876  19.1  9.2203   1  315   \n",
       "400    400   0.09164   0.0  10.81  0  0.413  6.065   7.8  5.2873   4  305   \n",
       "401    401   5.87205   0.0  18.10  0  0.693  6.405  96.0  1.6768  24  666   \n",
       "402    402   0.33045   0.0   6.20  0  0.507  6.086  61.5  3.6519   8  307   \n",
       "403    403   0.08014   0.0   5.96  0  0.499  5.850  41.5  3.9342   5  279   \n",
       "\n",
       "        k       l      m  price  \n",
       "0    17.9  383.37   5.81   25.3  \n",
       "1    19.7  390.68   6.86   23.3  \n",
       "2    20.2  396.90  30.81    7.2  \n",
       "3    18.7  386.40  12.34   21.2  \n",
       "4    20.2    3.65  17.16   11.7  \n",
       "..    ...     ...    ...    ...  \n",
       "399  16.4  395.18   9.25   20.9  \n",
       "400  19.2  390.91   5.52   22.8  \n",
       "401  20.2  396.90  19.37   12.5  \n",
       "402  17.4  376.75  10.88   24.0  \n",
       "403  19.2  396.90   8.77   21.0  \n",
       "\n",
       "[404 rows x 15 columns]"
      ]
     },
     "execution_count": 4,
     "metadata": {},
     "output_type": "execute_result"
    }
   ],
   "source": [
    "train"
   ]
  },
  {
   "cell_type": "code",
   "execution_count": 5,
   "id": "cd06ef4a",
   "metadata": {
    "execution": {
     "iopub.execute_input": "2022-04-18T12:56:02.272702Z",
     "iopub.status.busy": "2022-04-18T12:56:02.272386Z",
     "iopub.status.idle": "2022-04-18T12:56:02.282262Z",
     "shell.execute_reply": "2022-04-18T12:56:02.281630Z"
    },
    "papermill": {
     "duration": 0.03351,
     "end_time": "2022-04-18T12:56:02.284451",
     "exception": false,
     "start_time": "2022-04-18T12:56:02.250941",
     "status": "completed"
    },
    "tags": []
   },
   "outputs": [],
   "source": [
    "X_train = train.drop(['index','price'],axis=1)\n",
    "y_train = train['price']\n",
    "X_test = test.drop(['index'],axis=1)"
   ]
  },
  {
   "cell_type": "markdown",
   "id": "f843bc39",
   "metadata": {
    "papermill": {
     "duration": 0.019709,
     "end_time": "2022-04-18T12:56:02.324670",
     "exception": false,
     "start_time": "2022-04-18T12:56:02.304961",
     "status": "completed"
    },
    "tags": []
   },
   "source": [
    "데이터를 살펴보니 'index'가 공통적으로 훈련데이터와 학습데이터에 들어있어서 제거해주었고, 훈련데이터에서는 학습을 하기위해서 'price'라는 라벨을 따로 떼서 다른 변수에 담아주었다."
   ]
  },
  {
   "cell_type": "code",
   "execution_count": 6,
   "id": "fde1b06b",
   "metadata": {
    "execution": {
     "iopub.execute_input": "2022-04-18T12:56:02.367547Z",
     "iopub.status.busy": "2022-04-18T12:56:02.366970Z",
     "iopub.status.idle": "2022-04-18T12:56:02.394621Z",
     "shell.execute_reply": "2022-04-18T12:56:02.393913Z"
    },
    "papermill": {
     "duration": 0.051063,
     "end_time": "2022-04-18T12:56:02.396767",
     "exception": false,
     "start_time": "2022-04-18T12:56:02.345704",
     "status": "completed"
    },
    "tags": []
   },
   "outputs": [
    {
     "data": {
      "text/html": [
       "<div>\n",
       "<style scoped>\n",
       "    .dataframe tbody tr th:only-of-type {\n",
       "        vertical-align: middle;\n",
       "    }\n",
       "\n",
       "    .dataframe tbody tr th {\n",
       "        vertical-align: top;\n",
       "    }\n",
       "\n",
       "    .dataframe thead th {\n",
       "        text-align: right;\n",
       "    }\n",
       "</style>\n",
       "<table border=\"1\" class=\"dataframe\">\n",
       "  <thead>\n",
       "    <tr style=\"text-align: right;\">\n",
       "      <th></th>\n",
       "      <th>a</th>\n",
       "      <th>b</th>\n",
       "      <th>c</th>\n",
       "      <th>d</th>\n",
       "      <th>e</th>\n",
       "      <th>f</th>\n",
       "      <th>g</th>\n",
       "      <th>h</th>\n",
       "      <th>i</th>\n",
       "      <th>j</th>\n",
       "      <th>k</th>\n",
       "      <th>l</th>\n",
       "      <th>m</th>\n",
       "    </tr>\n",
       "  </thead>\n",
       "  <tbody>\n",
       "    <tr>\n",
       "      <th>0</th>\n",
       "      <td>0.14150</td>\n",
       "      <td>0.0</td>\n",
       "      <td>6.91</td>\n",
       "      <td>0</td>\n",
       "      <td>0.448</td>\n",
       "      <td>6.169</td>\n",
       "      <td>6.6</td>\n",
       "      <td>5.7209</td>\n",
       "      <td>3</td>\n",
       "      <td>233</td>\n",
       "      <td>17.9</td>\n",
       "      <td>383.37</td>\n",
       "      <td>5.81</td>\n",
       "    </tr>\n",
       "    <tr>\n",
       "      <th>1</th>\n",
       "      <td>0.15445</td>\n",
       "      <td>25.0</td>\n",
       "      <td>5.13</td>\n",
       "      <td>0</td>\n",
       "      <td>0.453</td>\n",
       "      <td>6.145</td>\n",
       "      <td>29.2</td>\n",
       "      <td>7.8148</td>\n",
       "      <td>8</td>\n",
       "      <td>284</td>\n",
       "      <td>19.7</td>\n",
       "      <td>390.68</td>\n",
       "      <td>6.86</td>\n",
       "    </tr>\n",
       "    <tr>\n",
       "      <th>2</th>\n",
       "      <td>16.81180</td>\n",
       "      <td>0.0</td>\n",
       "      <td>18.10</td>\n",
       "      <td>0</td>\n",
       "      <td>0.700</td>\n",
       "      <td>5.277</td>\n",
       "      <td>98.1</td>\n",
       "      <td>1.4261</td>\n",
       "      <td>24</td>\n",
       "      <td>666</td>\n",
       "      <td>20.2</td>\n",
       "      <td>396.90</td>\n",
       "      <td>30.81</td>\n",
       "    </tr>\n",
       "    <tr>\n",
       "      <th>3</th>\n",
       "      <td>0.05646</td>\n",
       "      <td>0.0</td>\n",
       "      <td>12.83</td>\n",
       "      <td>0</td>\n",
       "      <td>0.437</td>\n",
       "      <td>6.232</td>\n",
       "      <td>53.7</td>\n",
       "      <td>5.0141</td>\n",
       "      <td>5</td>\n",
       "      <td>398</td>\n",
       "      <td>18.7</td>\n",
       "      <td>386.40</td>\n",
       "      <td>12.34</td>\n",
       "    </tr>\n",
       "    <tr>\n",
       "      <th>4</th>\n",
       "      <td>8.79212</td>\n",
       "      <td>0.0</td>\n",
       "      <td>18.10</td>\n",
       "      <td>0</td>\n",
       "      <td>0.584</td>\n",
       "      <td>5.565</td>\n",
       "      <td>70.6</td>\n",
       "      <td>2.0635</td>\n",
       "      <td>24</td>\n",
       "      <td>666</td>\n",
       "      <td>20.2</td>\n",
       "      <td>3.65</td>\n",
       "      <td>17.16</td>\n",
       "    </tr>\n",
       "    <tr>\n",
       "      <th>...</th>\n",
       "      <td>...</td>\n",
       "      <td>...</td>\n",
       "      <td>...</td>\n",
       "      <td>...</td>\n",
       "      <td>...</td>\n",
       "      <td>...</td>\n",
       "      <td>...</td>\n",
       "      <td>...</td>\n",
       "      <td>...</td>\n",
       "      <td>...</td>\n",
       "      <td>...</td>\n",
       "      <td>...</td>\n",
       "      <td>...</td>\n",
       "    </tr>\n",
       "    <tr>\n",
       "      <th>399</th>\n",
       "      <td>0.03548</td>\n",
       "      <td>80.0</td>\n",
       "      <td>3.64</td>\n",
       "      <td>0</td>\n",
       "      <td>0.392</td>\n",
       "      <td>5.876</td>\n",
       "      <td>19.1</td>\n",
       "      <td>9.2203</td>\n",
       "      <td>1</td>\n",
       "      <td>315</td>\n",
       "      <td>16.4</td>\n",
       "      <td>395.18</td>\n",
       "      <td>9.25</td>\n",
       "    </tr>\n",
       "    <tr>\n",
       "      <th>400</th>\n",
       "      <td>0.09164</td>\n",
       "      <td>0.0</td>\n",
       "      <td>10.81</td>\n",
       "      <td>0</td>\n",
       "      <td>0.413</td>\n",
       "      <td>6.065</td>\n",
       "      <td>7.8</td>\n",
       "      <td>5.2873</td>\n",
       "      <td>4</td>\n",
       "      <td>305</td>\n",
       "      <td>19.2</td>\n",
       "      <td>390.91</td>\n",
       "      <td>5.52</td>\n",
       "    </tr>\n",
       "    <tr>\n",
       "      <th>401</th>\n",
       "      <td>5.87205</td>\n",
       "      <td>0.0</td>\n",
       "      <td>18.10</td>\n",
       "      <td>0</td>\n",
       "      <td>0.693</td>\n",
       "      <td>6.405</td>\n",
       "      <td>96.0</td>\n",
       "      <td>1.6768</td>\n",
       "      <td>24</td>\n",
       "      <td>666</td>\n",
       "      <td>20.2</td>\n",
       "      <td>396.90</td>\n",
       "      <td>19.37</td>\n",
       "    </tr>\n",
       "    <tr>\n",
       "      <th>402</th>\n",
       "      <td>0.33045</td>\n",
       "      <td>0.0</td>\n",
       "      <td>6.20</td>\n",
       "      <td>0</td>\n",
       "      <td>0.507</td>\n",
       "      <td>6.086</td>\n",
       "      <td>61.5</td>\n",
       "      <td>3.6519</td>\n",
       "      <td>8</td>\n",
       "      <td>307</td>\n",
       "      <td>17.4</td>\n",
       "      <td>376.75</td>\n",
       "      <td>10.88</td>\n",
       "    </tr>\n",
       "    <tr>\n",
       "      <th>403</th>\n",
       "      <td>0.08014</td>\n",
       "      <td>0.0</td>\n",
       "      <td>5.96</td>\n",
       "      <td>0</td>\n",
       "      <td>0.499</td>\n",
       "      <td>5.850</td>\n",
       "      <td>41.5</td>\n",
       "      <td>3.9342</td>\n",
       "      <td>5</td>\n",
       "      <td>279</td>\n",
       "      <td>19.2</td>\n",
       "      <td>396.90</td>\n",
       "      <td>8.77</td>\n",
       "    </tr>\n",
       "  </tbody>\n",
       "</table>\n",
       "<p>404 rows × 13 columns</p>\n",
       "</div>"
      ],
      "text/plain": [
       "            a     b      c  d      e      f     g       h   i    j     k  \\\n",
       "0     0.14150   0.0   6.91  0  0.448  6.169   6.6  5.7209   3  233  17.9   \n",
       "1     0.15445  25.0   5.13  0  0.453  6.145  29.2  7.8148   8  284  19.7   \n",
       "2    16.81180   0.0  18.10  0  0.700  5.277  98.1  1.4261  24  666  20.2   \n",
       "3     0.05646   0.0  12.83  0  0.437  6.232  53.7  5.0141   5  398  18.7   \n",
       "4     8.79212   0.0  18.10  0  0.584  5.565  70.6  2.0635  24  666  20.2   \n",
       "..        ...   ...    ... ..    ...    ...   ...     ...  ..  ...   ...   \n",
       "399   0.03548  80.0   3.64  0  0.392  5.876  19.1  9.2203   1  315  16.4   \n",
       "400   0.09164   0.0  10.81  0  0.413  6.065   7.8  5.2873   4  305  19.2   \n",
       "401   5.87205   0.0  18.10  0  0.693  6.405  96.0  1.6768  24  666  20.2   \n",
       "402   0.33045   0.0   6.20  0  0.507  6.086  61.5  3.6519   8  307  17.4   \n",
       "403   0.08014   0.0   5.96  0  0.499  5.850  41.5  3.9342   5  279  19.2   \n",
       "\n",
       "          l      m  \n",
       "0    383.37   5.81  \n",
       "1    390.68   6.86  \n",
       "2    396.90  30.81  \n",
       "3    386.40  12.34  \n",
       "4      3.65  17.16  \n",
       "..      ...    ...  \n",
       "399  395.18   9.25  \n",
       "400  390.91   5.52  \n",
       "401  396.90  19.37  \n",
       "402  376.75  10.88  \n",
       "403  396.90   8.77  \n",
       "\n",
       "[404 rows x 13 columns]"
      ]
     },
     "execution_count": 6,
     "metadata": {},
     "output_type": "execute_result"
    }
   ],
   "source": [
    "X_train"
   ]
  },
  {
   "cell_type": "code",
   "execution_count": 7,
   "id": "c4e12d0e",
   "metadata": {
    "execution": {
     "iopub.execute_input": "2022-04-18T12:56:02.440556Z",
     "iopub.status.busy": "2022-04-18T12:56:02.440279Z",
     "iopub.status.idle": "2022-04-18T12:56:03.419701Z",
     "shell.execute_reply": "2022-04-18T12:56:03.418750Z"
    },
    "papermill": {
     "duration": 1.004671,
     "end_time": "2022-04-18T12:56:03.422373",
     "exception": false,
     "start_time": "2022-04-18T12:56:02.417702",
     "status": "completed"
    },
    "tags": []
   },
   "outputs": [],
   "source": [
    "from sklearn.preprocessing import StandardScaler\n",
    "sc = StandardScaler()\n",
    "X_train_std = sc.fit_transform(X_train)\n",
    "X_test_std = sc.transform(X_test)"
   ]
  },
  {
   "cell_type": "markdown",
   "id": "db19ba5c",
   "metadata": {
    "papermill": {
     "duration": 0.020764,
     "end_time": "2022-04-18T12:56:03.464682",
     "exception": false,
     "start_time": "2022-04-18T12:56:03.443918",
     "status": "completed"
    },
    "tags": []
   },
   "source": [
    "모델의 성능을 더욱 높이고자 StandardScaler을 통해서 스케일 정규화를 진행해주었다."
   ]
  },
  {
   "cell_type": "code",
   "execution_count": 8,
   "id": "dbee635d",
   "metadata": {
    "execution": {
     "iopub.execute_input": "2022-04-18T12:56:03.508649Z",
     "iopub.status.busy": "2022-04-18T12:56:03.508112Z",
     "iopub.status.idle": "2022-04-18T12:56:03.664266Z",
     "shell.execute_reply": "2022-04-18T12:56:03.663285Z"
    },
    "papermill": {
     "duration": 0.181101,
     "end_time": "2022-04-18T12:56:03.666866",
     "exception": false,
     "start_time": "2022-04-18T12:56:03.485765",
     "status": "completed"
    },
    "tags": []
   },
   "outputs": [],
   "source": [
    "from sklearn.neighbors import KNeighborsRegressor\n",
    "model = KNeighborsRegressor().fit(X_train_std,y_train)\n",
    "y_test = model.predict(X_test_std)"
   ]
  },
  {
   "cell_type": "markdown",
   "id": "c26355d7",
   "metadata": {
    "papermill": {
     "duration": 0.021788,
     "end_time": "2022-04-18T12:56:03.710061",
     "exception": false,
     "start_time": "2022-04-18T12:56:03.688273",
     "status": "completed"
    },
    "tags": []
   },
   "source": [
    "해당 문제는 땅값을 예측하는 문제로 회귀 문제에 해당하기에 먼저 회귀모델을 만들어야한다고 생각했고 학습데이터의 수가 400개 정도로 많으므로 KNeighborsRegressor을 선언하고 학습을 시켰다."
   ]
  },
  {
   "cell_type": "code",
   "execution_count": 9,
   "id": "f8d44556",
   "metadata": {
    "execution": {
     "iopub.execute_input": "2022-04-18T12:56:03.753843Z",
     "iopub.status.busy": "2022-04-18T12:56:03.753566Z",
     "iopub.status.idle": "2022-04-18T12:56:03.757188Z",
     "shell.execute_reply": "2022-04-18T12:56:03.756206Z"
    },
    "papermill": {
     "duration": 0.02782,
     "end_time": "2022-04-18T12:56:03.759218",
     "exception": false,
     "start_time": "2022-04-18T12:56:03.731398",
     "status": "completed"
    },
    "tags": []
   },
   "outputs": [],
   "source": [
    "#sample['price'] = y_test\n",
    "#sample.to_csv('submit.csv',index=False)"
   ]
  },
  {
   "cell_type": "markdown",
   "id": "fc736ac3",
   "metadata": {
    "papermill": {
     "duration": 0.020499,
     "end_time": "2022-04-18T12:56:03.800322",
     "exception": false,
     "start_time": "2022-04-18T12:56:03.779823",
     "status": "completed"
    },
    "tags": []
   },
   "source": [
    "모델을 통해서 에측한 값을 csv에 저장하기 위해서 .to_csv라는 함수를 사용했다."
   ]
  },
  {
   "cell_type": "code",
   "execution_count": 10,
   "id": "194c3149",
   "metadata": {
    "execution": {
     "iopub.execute_input": "2022-04-18T12:56:03.845209Z",
     "iopub.status.busy": "2022-04-18T12:56:03.844753Z",
     "iopub.status.idle": "2022-04-18T12:56:04.264383Z",
     "shell.execute_reply": "2022-04-18T12:56:04.263682Z"
    },
    "papermill": {
     "duration": 0.444025,
     "end_time": "2022-04-18T12:56:04.266723",
     "exception": false,
     "start_time": "2022-04-18T12:56:03.822698",
     "status": "completed"
    },
    "tags": []
   },
   "outputs": [],
   "source": [
    "from sklearn.ensemble import RandomForestRegressor\n",
    "model1 = RandomForestRegressor().fit(X_train_std,y_train)\n",
    "y_test1 = model1.predict(X_test_std)"
   ]
  },
  {
   "cell_type": "markdown",
   "id": "51ae835b",
   "metadata": {
    "papermill": {
     "duration": 0.020347,
     "end_time": "2022-04-18T12:56:04.308300",
     "exception": false,
     "start_time": "2022-04-18T12:56:04.287953",
     "status": "completed"
    },
    "tags": []
   },
   "source": [
    "해당 문제는 회귀 문제로 회귀모델을 만들어야겠다고 생각했고, 학습의 데이터의 수가 많고 설명보다는 예측을 필요로 하는 문제이기에 DecisionTreeRegressor보다는 RandomForestRegressor가 더 적합하다고 생각하여 RandomForestRegressor을 선언하고 학습을 시켰다."
   ]
  },
  {
   "cell_type": "code",
   "execution_count": 11,
   "id": "c511bc27",
   "metadata": {
    "execution": {
     "iopub.execute_input": "2022-04-18T12:56:04.352614Z",
     "iopub.status.busy": "2022-04-18T12:56:04.352073Z",
     "iopub.status.idle": "2022-04-18T12:56:04.359737Z",
     "shell.execute_reply": "2022-04-18T12:56:04.358878Z"
    },
    "papermill": {
     "duration": 0.03291,
     "end_time": "2022-04-18T12:56:04.362057",
     "exception": false,
     "start_time": "2022-04-18T12:56:04.329147",
     "status": "completed"
    },
    "tags": []
   },
   "outputs": [],
   "source": [
    "sample['price'] = y_test1\n",
    "sample.to_csv('submit1.csv',index=False)"
   ]
  },
  {
   "cell_type": "markdown",
   "id": "3337515f",
   "metadata": {
    "papermill": {
     "duration": 0.020395,
     "end_time": "2022-04-18T12:56:04.403457",
     "exception": false,
     "start_time": "2022-04-18T12:56:04.383062",
     "status": "completed"
    },
    "tags": []
   },
   "source": [
    "모델을 통해서 에측한 값을 csv에 저장하기 위해서 .to_csv라는 함수를 사용했다."
   ]
  },
  {
   "cell_type": "markdown",
   "id": "820071ac",
   "metadata": {
    "papermill": {
     "duration": 0.020546,
     "end_time": "2022-04-18T12:56:04.444717",
     "exception": false,
     "start_time": "2022-04-18T12:56:04.424171",
     "status": "completed"
    },
    "tags": []
   },
   "source": [
    "KNeighborsRegressor으로 모델을 만들고 파라미터를 default 값으로 설정후 캐글에 제출해보니 2.91705 가 나왔고 RandomForestRegressor로 모델을 만들고 파라미터를 default 값으로 설정후 캐글에 제출해보니 2.26287 가 나왔다. 이를 통해서 분석을 해보자면 해당 데이터에서는 우선 학습데이터가 400개로 많다면 많지만 어찌보면 그렇게 많다고도 생각할 수 없기에 RandomForestRegressor가가 더 성능이 좋을 것으로 예측했다. 이에 캐글의 점수도 RandomForestRegressor의 성능이 더 좋다고 나왔다. 사실 점수로 따져보면 0.7점 정도 차이가 나서 비슷한 성능을 보여준다고도 생각할 수 있지만 KNeighborsRegressor의 단점인 최적의 k값과 거리척도 방식을 사용자가 직접 구해야한다는 점에서 성능이 다소 낮게 나온 것으로 생각한다."
   ]
  }
 ],
 "metadata": {
  "kernelspec": {
   "display_name": "Python 3",
   "language": "python",
   "name": "python3"
  },
  "language_info": {
   "codemirror_mode": {
    "name": "ipython",
    "version": 3
   },
   "file_extension": ".py",
   "mimetype": "text/x-python",
   "name": "python",
   "nbconvert_exporter": "python",
   "pygments_lexer": "ipython3",
   "version": "3.7.12"
  },
  "papermill": {
   "default_parameters": {},
   "duration": 12.975248,
   "end_time": "2022-04-18T12:56:05.186112",
   "environment_variables": {},
   "exception": null,
   "input_path": "__notebook__.ipynb",
   "output_path": "__notebook__.ipynb",
   "parameters": {},
   "start_time": "2022-04-18T12:55:52.210864",
   "version": "2.3.4"
  }
 },
 "nbformat": 4,
 "nbformat_minor": 5
}
