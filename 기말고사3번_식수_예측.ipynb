{
 "cells": [
  {
   "cell_type": "code",
   "execution_count": 1,
   "id": "b00ab071",
   "metadata": {
    "_cell_guid": "b1076dfc-b9ad-4769-8c92-a6c4dae69d19",
    "_uuid": "8f2839f25d086af736a60e9eeb907d3b93b6e0e5",
    "execution": {
     "iopub.execute_input": "2022-06-13T12:17:44.407871Z",
     "iopub.status.busy": "2022-06-13T12:17:44.407205Z",
     "iopub.status.idle": "2022-06-13T12:17:44.417872Z",
     "shell.execute_reply": "2022-06-13T12:17:44.417235Z"
    },
    "papermill": {
     "duration": 0.021743,
     "end_time": "2022-06-13T12:17:44.422704",
     "exception": false,
     "start_time": "2022-06-13T12:17:44.400961",
     "status": "completed"
    },
    "tags": []
   },
   "outputs": [
    {
     "name": "stdout",
     "output_type": "stream",
     "text": [
      "/kaggle/input/2022-ml-finalexam-p3/train.csv\n",
      "/kaggle/input/2022-ml-finalexam-p3/test.csv\n",
      "/kaggle/input/2022-ml-finalexam-p3/sample_submit.csv\n"
     ]
    }
   ],
   "source": [
    "# This Python 3 environment comes with many helpful analytics libraries installed\n",
    "# It is defined by the kaggle/python Docker image: https://github.com/kaggle/docker-python\n",
    "# For example, here's several helpful packages to load\n",
    "\n",
    "import numpy as np # linear algebra\n",
    "import pandas as pd # data processing, CSV file I/O (e.g. pd.read_csv)\n",
    "\n",
    "# Input data files are available in the read-only \"../input/\" directory\n",
    "# For example, running this (by clicking run or pressing Shift+Enter) will list all files under the input directory\n",
    "\n",
    "import os\n",
    "for dirname, _, filenames in os.walk('/kaggle/input'):\n",
    "    for filename in filenames:\n",
    "        print(os.path.join(dirname, filename))\n",
    "\n",
    "# You can write up to 20GB to the current directory (/kaggle/working/) that gets preserved as output when you create a version using \"Save & Run All\" \n",
    "# You can also write temporary files to /kaggle/temp/, but they won't be saved outside of the current session"
   ]
  },
  {
   "cell_type": "code",
   "execution_count": 2,
   "id": "3c5d8e75",
   "metadata": {
    "execution": {
     "iopub.execute_input": "2022-06-13T12:17:44.432863Z",
     "iopub.status.busy": "2022-06-13T12:17:44.432357Z",
     "iopub.status.idle": "2022-06-13T12:17:44.477834Z",
     "shell.execute_reply": "2022-06-13T12:17:44.476982Z"
    },
    "papermill": {
     "duration": 0.052501,
     "end_time": "2022-06-13T12:17:44.480126",
     "exception": false,
     "start_time": "2022-06-13T12:17:44.427625",
     "status": "completed"
    },
    "tags": []
   },
   "outputs": [],
   "source": [
    "train = pd.read_csv('/kaggle/input/2022-ml-finalexam-p3/train.csv')\n",
    "test = pd.read_csv('/kaggle/input/2022-ml-finalexam-p3/test.csv')\n",
    "sample = pd.read_csv('/kaggle/input/2022-ml-finalexam-p3/sample_submit.csv')"
   ]
  },
  {
   "cell_type": "markdown",
   "id": "464283af",
   "metadata": {
    "papermill": {
     "duration": 0.003506,
     "end_time": "2022-06-13T12:17:44.487333",
     "exception": false,
     "start_time": "2022-06-13T12:17:44.483827",
     "status": "completed"
    },
    "tags": []
   },
   "source": [
    "train데이터와 test데이터, 제출할 파일을 읽어 오기 위해서 pd.read_csv함수를 사용하였습니다."
   ]
  },
  {
   "cell_type": "code",
   "execution_count": 3,
   "id": "32399d95",
   "metadata": {
    "execution": {
     "iopub.execute_input": "2022-06-13T12:17:44.496037Z",
     "iopub.status.busy": "2022-06-13T12:17:44.495646Z",
     "iopub.status.idle": "2022-06-13T12:17:44.527787Z",
     "shell.execute_reply": "2022-06-13T12:17:44.526997Z"
    },
    "papermill": {
     "duration": 0.039955,
     "end_time": "2022-06-13T12:17:44.530844",
     "exception": false,
     "start_time": "2022-06-13T12:17:44.490889",
     "status": "completed"
    },
    "tags": []
   },
   "outputs": [
    {
     "data": {
      "text/html": [
       "<div>\n",
       "<style scoped>\n",
       "    .dataframe tbody tr th:only-of-type {\n",
       "        vertical-align: middle;\n",
       "    }\n",
       "\n",
       "    .dataframe tbody tr th {\n",
       "        vertical-align: top;\n",
       "    }\n",
       "\n",
       "    .dataframe thead th {\n",
       "        text-align: right;\n",
       "    }\n",
       "</style>\n",
       "<table border=\"1\" class=\"dataframe\">\n",
       "  <thead>\n",
       "    <tr style=\"text-align: right;\">\n",
       "      <th></th>\n",
       "      <th>Unnamed: 0</th>\n",
       "      <th>일자</th>\n",
       "      <th>요일</th>\n",
       "      <th>본사정원수</th>\n",
       "      <th>본사휴가자수</th>\n",
       "      <th>본사출장자수</th>\n",
       "      <th>본사시간외근무명령서승인건수</th>\n",
       "      <th>현본사소속재택근무자수</th>\n",
       "      <th>조식메뉴</th>\n",
       "      <th>중식메뉴</th>\n",
       "      <th>석식메뉴</th>\n",
       "      <th>중식계</th>\n",
       "    </tr>\n",
       "  </thead>\n",
       "  <tbody>\n",
       "    <tr>\n",
       "      <th>0</th>\n",
       "      <td>0</td>\n",
       "      <td>2016-02-01</td>\n",
       "      <td>월</td>\n",
       "      <td>2601</td>\n",
       "      <td>50</td>\n",
       "      <td>150</td>\n",
       "      <td>238</td>\n",
       "      <td>0.0</td>\n",
       "      <td>모닝롤/찐빵  우유/두유/주스 계란후라이  호두죽/쌀밥 (쌀:국내산) 된장찌개  쥐...</td>\n",
       "      <td>쌀밥/잡곡밥 (쌀,현미흑미:국내산) 오징어찌개  쇠불고기 (쇠고기:호주산) 계란찜 ...</td>\n",
       "      <td>쌀밥/잡곡밥 (쌀,현미흑미:국내산) 육개장  자반고등어구이  두부조림  건파래무침 ...</td>\n",
       "      <td>1039.0</td>\n",
       "    </tr>\n",
       "    <tr>\n",
       "      <th>1</th>\n",
       "      <td>1</td>\n",
       "      <td>2016-02-02</td>\n",
       "      <td>화</td>\n",
       "      <td>2601</td>\n",
       "      <td>50</td>\n",
       "      <td>173</td>\n",
       "      <td>319</td>\n",
       "      <td>0.0</td>\n",
       "      <td>모닝롤/단호박샌드  우유/두유/주스 계란후라이  팥죽/쌀밥 (쌀:국내산) 호박젓국찌...</td>\n",
       "      <td>쌀밥/잡곡밥 (쌀,현미흑미:국내산) 김치찌개  가자미튀김  모둠소세지구이  마늘쫑무...</td>\n",
       "      <td>콩나물밥*양념장 (쌀,현미흑미:국내산) 어묵국  유산슬 (쇠고기:호주산) 아삭고추무...</td>\n",
       "      <td>867.0</td>\n",
       "    </tr>\n",
       "    <tr>\n",
       "      <th>2</th>\n",
       "      <td>2</td>\n",
       "      <td>2016-02-03</td>\n",
       "      <td>수</td>\n",
       "      <td>2601</td>\n",
       "      <td>56</td>\n",
       "      <td>180</td>\n",
       "      <td>111</td>\n",
       "      <td>0.0</td>\n",
       "      <td>모닝롤/베이글  우유/두유/주스 계란후라이  표고버섯죽/쌀밥 (쌀:국내산) 콩나물국...</td>\n",
       "      <td>카레덮밥 (쌀,현미흑미:국내산) 팽이장국  치킨핑거 (닭고기:국내산) 쫄면야채무침 ...</td>\n",
       "      <td>쌀밥/잡곡밥 (쌀,현미흑미:국내산) 청국장찌개  황태양념구이 (황태:러시아산) 고기...</td>\n",
       "      <td>1017.0</td>\n",
       "    </tr>\n",
       "    <tr>\n",
       "      <th>3</th>\n",
       "      <td>3</td>\n",
       "      <td>2016-02-04</td>\n",
       "      <td>목</td>\n",
       "      <td>2601</td>\n",
       "      <td>104</td>\n",
       "      <td>220</td>\n",
       "      <td>355</td>\n",
       "      <td>0.0</td>\n",
       "      <td>모닝롤/토마토샌드  우유/두유/주스 계란후라이  닭죽/쌀밥 (쌀,닭:국내산) 근대국...</td>\n",
       "      <td>쌀밥/잡곡밥 (쌀,현미흑미:국내산) 쇠고기무국  주꾸미볶음  부추전  시금치나물  ...</td>\n",
       "      <td>미니김밥*겨자장 (쌀,현미흑미:국내산) 우동  멕시칸샐러드  군고구마  무피클  포...</td>\n",
       "      <td>978.0</td>\n",
       "    </tr>\n",
       "    <tr>\n",
       "      <th>4</th>\n",
       "      <td>4</td>\n",
       "      <td>2016-02-05</td>\n",
       "      <td>금</td>\n",
       "      <td>2601</td>\n",
       "      <td>278</td>\n",
       "      <td>181</td>\n",
       "      <td>34</td>\n",
       "      <td>0.0</td>\n",
       "      <td>모닝롤/와플  우유/두유/주스 계란후라이  쇠고기죽/쌀밥 (쌀:국내산) 재첩국  방...</td>\n",
       "      <td>쌀밥/잡곡밥 (쌀,현미흑미:국내산) 떡국  돈육씨앗강정 (돼지고기:국내산) 우엉잡채...</td>\n",
       "      <td>쌀밥/잡곡밥 (쌀,현미흑미:국내산) 차돌박이찌개 (쇠고기:호주산) 닭갈비 (닭고기:...</td>\n",
       "      <td>925.0</td>\n",
       "    </tr>\n",
       "    <tr>\n",
       "      <th>...</th>\n",
       "      <td>...</td>\n",
       "      <td>...</td>\n",
       "      <td>...</td>\n",
       "      <td>...</td>\n",
       "      <td>...</td>\n",
       "      <td>...</td>\n",
       "      <td>...</td>\n",
       "      <td>...</td>\n",
       "      <td>...</td>\n",
       "      <td>...</td>\n",
       "      <td>...</td>\n",
       "      <td>...</td>\n",
       "    </tr>\n",
       "    <tr>\n",
       "      <th>838</th>\n",
       "      <td>838</td>\n",
       "      <td>2019-07-10</td>\n",
       "      <td>수</td>\n",
       "      <td>2760</td>\n",
       "      <td>123</td>\n",
       "      <td>286</td>\n",
       "      <td>0</td>\n",
       "      <td>0.0</td>\n",
       "      <td>모닝롤/사과파이  우유/주스 계란후라이 누룽지탕/쌀밥 (쌀:국내산) 동태탕 (동태:...</td>\n",
       "      <td>열무보리비빔밥 (쌀:국내산) 가쯔오장국  깐풍육 (돈육:국내산) 시저샐러드  오복지...</td>\n",
       "      <td>쌀밥/잡곡밥 (쌀:국내산) 육개장 (쇠고기:호주산) 가자미튀김  계란말이  오이생채...</td>\n",
       "      <td>862.0</td>\n",
       "    </tr>\n",
       "    <tr>\n",
       "      <th>839</th>\n",
       "      <td>839</td>\n",
       "      <td>2019-07-11</td>\n",
       "      <td>목</td>\n",
       "      <td>2760</td>\n",
       "      <td>102</td>\n",
       "      <td>301</td>\n",
       "      <td>371</td>\n",
       "      <td>0.0</td>\n",
       "      <td>모닝롤/바나나샌드  우유/주스 계란후라이 새우살죽/쌀밥 (쌀:국내산) 감자국  멸치...</td>\n",
       "      <td>쌀밥/잡곡밥 (쌀:국내산) 근대국  삼겹보쌈 (돈육:칠레산) 해물김치전  무말랭이 ...</td>\n",
       "      <td>쌀밥/잡곡밥 (쌀:국내산) 들깨미역국  언양식불고기  오징어초무침 (오징어:포클랜드...</td>\n",
       "      <td>730.0</td>\n",
       "    </tr>\n",
       "    <tr>\n",
       "      <th>840</th>\n",
       "      <td>840</td>\n",
       "      <td>2019-07-12</td>\n",
       "      <td>금</td>\n",
       "      <td>2760</td>\n",
       "      <td>244</td>\n",
       "      <td>306</td>\n",
       "      <td>0</td>\n",
       "      <td>0.0</td>\n",
       "      <td>모닝롤/핫도그  우유/주스 계란후라이 견과류죽/쌀밥 (쌀:국내산) 매운버섯국 (쇠고...</td>\n",
       "      <td>&lt;초복특식&gt;  삼계탕 (닭:국내산) 찹쌀밥 (찹쌀,쌀:국내산) 생야채&amp;쌈장  수박 ...</td>\n",
       "      <td>쌀밥/잡곡밥 (쌀:국내산) 된장찌개  소고기장조림 (쇠고기:호주산) 비엔나케찹볶음 ...</td>\n",
       "      <td>856.0</td>\n",
       "    </tr>\n",
       "    <tr>\n",
       "      <th>841</th>\n",
       "      <td>841</td>\n",
       "      <td>2019-07-15</td>\n",
       "      <td>월</td>\n",
       "      <td>2760</td>\n",
       "      <td>144</td>\n",
       "      <td>232</td>\n",
       "      <td>396</td>\n",
       "      <td>0.0</td>\n",
       "      <td>모닝롤/핫케이크  우유/주스 계란후라이 누룽지탕/쌀밥 (쌀:국내산) 무채국  김자반...</td>\n",
       "      <td>쌀밥/잡곡밥 (쌀:국내산) 차돌박이찌개  돈육굴소스볶음  주꾸미야채무침  시금치나물...</td>\n",
       "      <td>쌀밥/잡곡밥 (쌀:국내산) 시래기들개탕  오징어볶음*소면  고기전  실곤약초무침  ...</td>\n",
       "      <td>1127.0</td>\n",
       "    </tr>\n",
       "    <tr>\n",
       "      <th>842</th>\n",
       "      <td>842</td>\n",
       "      <td>2019-07-16</td>\n",
       "      <td>화</td>\n",
       "      <td>2760</td>\n",
       "      <td>100</td>\n",
       "      <td>227</td>\n",
       "      <td>426</td>\n",
       "      <td>0.0</td>\n",
       "      <td>모닝롤/야채샌드  우유/주스 스크램블에그 야채죽/쌀밥 (쌀:국내산) 조랭이떡국  가...</td>\n",
       "      <td>쌀밥/잡곡밥 (쌀:국내산) 북어계란국  닭갈비  간장두부조림  셀프무쌈말이  열무김...</td>\n",
       "      <td>유부초밥 (쌀:국내산) 콩국수  떡볶이  군만두  수박  포기김치 (김치:국내산)</td>\n",
       "      <td>952.0</td>\n",
       "    </tr>\n",
       "  </tbody>\n",
       "</table>\n",
       "<p>843 rows × 12 columns</p>\n",
       "</div>"
      ],
      "text/plain": [
       "     Unnamed: 0          일자 요일  본사정원수  본사휴가자수  본사출장자수  본사시간외근무명령서승인건수  \\\n",
       "0             0  2016-02-01  월   2601      50     150             238   \n",
       "1             1  2016-02-02  화   2601      50     173             319   \n",
       "2             2  2016-02-03  수   2601      56     180             111   \n",
       "3             3  2016-02-04  목   2601     104     220             355   \n",
       "4             4  2016-02-05  금   2601     278     181              34   \n",
       "..          ...         ... ..    ...     ...     ...             ...   \n",
       "838         838  2019-07-10  수   2760     123     286               0   \n",
       "839         839  2019-07-11  목   2760     102     301             371   \n",
       "840         840  2019-07-12  금   2760     244     306               0   \n",
       "841         841  2019-07-15  월   2760     144     232             396   \n",
       "842         842  2019-07-16  화   2760     100     227             426   \n",
       "\n",
       "     현본사소속재택근무자수                                               조식메뉴  \\\n",
       "0            0.0  모닝롤/찐빵  우유/두유/주스 계란후라이  호두죽/쌀밥 (쌀:국내산) 된장찌개  쥐...   \n",
       "1            0.0  모닝롤/단호박샌드  우유/두유/주스 계란후라이  팥죽/쌀밥 (쌀:국내산) 호박젓국찌...   \n",
       "2            0.0  모닝롤/베이글  우유/두유/주스 계란후라이  표고버섯죽/쌀밥 (쌀:국내산) 콩나물국...   \n",
       "3            0.0  모닝롤/토마토샌드  우유/두유/주스 계란후라이  닭죽/쌀밥 (쌀,닭:국내산) 근대국...   \n",
       "4            0.0  모닝롤/와플  우유/두유/주스 계란후라이  쇠고기죽/쌀밥 (쌀:국내산) 재첩국  방...   \n",
       "..           ...                                                ...   \n",
       "838          0.0  모닝롤/사과파이  우유/주스 계란후라이 누룽지탕/쌀밥 (쌀:국내산) 동태탕 (동태:...   \n",
       "839          0.0  모닝롤/바나나샌드  우유/주스 계란후라이 새우살죽/쌀밥 (쌀:국내산) 감자국  멸치...   \n",
       "840          0.0  모닝롤/핫도그  우유/주스 계란후라이 견과류죽/쌀밥 (쌀:국내산) 매운버섯국 (쇠고...   \n",
       "841          0.0  모닝롤/핫케이크  우유/주스 계란후라이 누룽지탕/쌀밥 (쌀:국내산) 무채국  김자반...   \n",
       "842          0.0  모닝롤/야채샌드  우유/주스 스크램블에그 야채죽/쌀밥 (쌀:국내산) 조랭이떡국  가...   \n",
       "\n",
       "                                                  중식메뉴  \\\n",
       "0    쌀밥/잡곡밥 (쌀,현미흑미:국내산) 오징어찌개  쇠불고기 (쇠고기:호주산) 계란찜 ...   \n",
       "1    쌀밥/잡곡밥 (쌀,현미흑미:국내산) 김치찌개  가자미튀김  모둠소세지구이  마늘쫑무...   \n",
       "2    카레덮밥 (쌀,현미흑미:국내산) 팽이장국  치킨핑거 (닭고기:국내산) 쫄면야채무침 ...   \n",
       "3    쌀밥/잡곡밥 (쌀,현미흑미:국내산) 쇠고기무국  주꾸미볶음  부추전  시금치나물  ...   \n",
       "4    쌀밥/잡곡밥 (쌀,현미흑미:국내산) 떡국  돈육씨앗강정 (돼지고기:국내산) 우엉잡채...   \n",
       "..                                                 ...   \n",
       "838  열무보리비빔밥 (쌀:국내산) 가쯔오장국  깐풍육 (돈육:국내산) 시저샐러드  오복지...   \n",
       "839  쌀밥/잡곡밥 (쌀:국내산) 근대국  삼겹보쌈 (돈육:칠레산) 해물김치전  무말랭이 ...   \n",
       "840  <초복특식>  삼계탕 (닭:국내산) 찹쌀밥 (찹쌀,쌀:국내산) 생야채&쌈장  수박 ...   \n",
       "841  쌀밥/잡곡밥 (쌀:국내산) 차돌박이찌개  돈육굴소스볶음  주꾸미야채무침  시금치나물...   \n",
       "842  쌀밥/잡곡밥 (쌀:국내산) 북어계란국  닭갈비  간장두부조림  셀프무쌈말이  열무김...   \n",
       "\n",
       "                                                  석식메뉴     중식계  \n",
       "0    쌀밥/잡곡밥 (쌀,현미흑미:국내산) 육개장  자반고등어구이  두부조림  건파래무침 ...  1039.0  \n",
       "1    콩나물밥*양념장 (쌀,현미흑미:국내산) 어묵국  유산슬 (쇠고기:호주산) 아삭고추무...   867.0  \n",
       "2    쌀밥/잡곡밥 (쌀,현미흑미:국내산) 청국장찌개  황태양념구이 (황태:러시아산) 고기...  1017.0  \n",
       "3    미니김밥*겨자장 (쌀,현미흑미:국내산) 우동  멕시칸샐러드  군고구마  무피클  포...   978.0  \n",
       "4    쌀밥/잡곡밥 (쌀,현미흑미:국내산) 차돌박이찌개 (쇠고기:호주산) 닭갈비 (닭고기:...   925.0  \n",
       "..                                                 ...     ...  \n",
       "838  쌀밥/잡곡밥 (쌀:국내산) 육개장 (쇠고기:호주산) 가자미튀김  계란말이  오이생채...   862.0  \n",
       "839  쌀밥/잡곡밥 (쌀:국내산) 들깨미역국  언양식불고기  오징어초무침 (오징어:포클랜드...   730.0  \n",
       "840  쌀밥/잡곡밥 (쌀:국내산) 된장찌개  소고기장조림 (쇠고기:호주산) 비엔나케찹볶음 ...   856.0  \n",
       "841  쌀밥/잡곡밥 (쌀:국내산) 시래기들개탕  오징어볶음*소면  고기전  실곤약초무침  ...  1127.0  \n",
       "842     유부초밥 (쌀:국내산) 콩국수  떡볶이  군만두  수박  포기김치 (김치:국내산)    952.0  \n",
       "\n",
       "[843 rows x 12 columns]"
      ]
     },
     "execution_count": 3,
     "metadata": {},
     "output_type": "execute_result"
    }
   ],
   "source": [
    "train"
   ]
  },
  {
   "cell_type": "code",
   "execution_count": 4,
   "id": "8718f8d1",
   "metadata": {
    "execution": {
     "iopub.execute_input": "2022-06-13T12:17:44.541214Z",
     "iopub.status.busy": "2022-06-13T12:17:44.540778Z",
     "iopub.status.idle": "2022-06-13T12:17:44.553178Z",
     "shell.execute_reply": "2022-06-13T12:17:44.552181Z"
    },
    "papermill": {
     "duration": 0.019609,
     "end_time": "2022-06-13T12:17:44.555106",
     "exception": false,
     "start_time": "2022-06-13T12:17:44.535497",
     "status": "completed"
    },
    "tags": []
   },
   "outputs": [],
   "source": [
    "X_train = train.drop(['Unnamed: 0','중식계'],axis=1)\n",
    "X_test = test.drop(['Unnamed: 0'],axis=1)\n",
    "y_train = train['중식계']"
   ]
  },
  {
   "cell_type": "markdown",
   "id": "0ca3885a",
   "metadata": {
    "papermill": {
     "duration": 0.003808,
     "end_time": "2022-06-13T12:17:44.563094",
     "exception": false,
     "start_time": "2022-06-13T12:17:44.559286",
     "status": "completed"
    },
    "tags": []
   },
   "source": [
    "train데이터와 test데이터를 살펴보니 'Unnamed: 0','중식계' 라는 부분은 모델의 학습에 필요하지 않을 것 같아서 제거해 주기 위해서 drop 함수를 사용하였습니다."
   ]
  },
  {
   "cell_type": "code",
   "execution_count": 5,
   "id": "f52ec536",
   "metadata": {
    "execution": {
     "iopub.execute_input": "2022-06-13T12:17:44.572759Z",
     "iopub.status.busy": "2022-06-13T12:17:44.572376Z",
     "iopub.status.idle": "2022-06-13T12:17:44.597697Z",
     "shell.execute_reply": "2022-06-13T12:17:44.596749Z"
    },
    "papermill": {
     "duration": 0.03259,
     "end_time": "2022-06-13T12:17:44.599692",
     "exception": false,
     "start_time": "2022-06-13T12:17:44.567102",
     "status": "completed"
    },
    "tags": []
   },
   "outputs": [
    {
     "name": "stdout",
     "output_type": "stream",
     "text": [
      "<class 'pandas.core.frame.DataFrame'>\n",
      "RangeIndex: 843 entries, 0 to 842\n",
      "Data columns (total 10 columns):\n",
      " #   Column          Non-Null Count  Dtype  \n",
      "---  ------          --------------  -----  \n",
      " 0   일자              843 non-null    object \n",
      " 1   요일              843 non-null    object \n",
      " 2   본사정원수           843 non-null    int64  \n",
      " 3   본사휴가자수          843 non-null    int64  \n",
      " 4   본사출장자수          843 non-null    int64  \n",
      " 5   본사시간외근무명령서승인건수  843 non-null    int64  \n",
      " 6   현본사소속재택근무자수     843 non-null    float64\n",
      " 7   조식메뉴            843 non-null    object \n",
      " 8   중식메뉴            843 non-null    object \n",
      " 9   석식메뉴            843 non-null    object \n",
      "dtypes: float64(1), int64(4), object(5)\n",
      "memory usage: 66.0+ KB\n",
      "<class 'pandas.core.frame.DataFrame'>\n",
      "RangeIndex: 362 entries, 0 to 361\n",
      "Data columns (total 10 columns):\n",
      " #   Column          Non-Null Count  Dtype  \n",
      "---  ------          --------------  -----  \n",
      " 0   일자              362 non-null    object \n",
      " 1   요일              362 non-null    object \n",
      " 2   본사정원수           362 non-null    int64  \n",
      " 3   본사휴가자수          362 non-null    int64  \n",
      " 4   본사출장자수          362 non-null    int64  \n",
      " 5   본사시간외근무명령서승인건수  362 non-null    int64  \n",
      " 6   현본사소속재택근무자수     362 non-null    float64\n",
      " 7   조식메뉴            362 non-null    object \n",
      " 8   중식메뉴            362 non-null    object \n",
      " 9   석식메뉴            362 non-null    object \n",
      "dtypes: float64(1), int64(4), object(5)\n",
      "memory usage: 28.4+ KB\n"
     ]
    }
   ],
   "source": [
    "X_train.info()\n",
    "X_test.info()"
   ]
  },
  {
   "cell_type": "markdown",
   "id": "2c3c8dfc",
   "metadata": {
    "papermill": {
     "duration": 0.004074,
     "end_time": "2022-06-13T12:17:44.607943",
     "exception": false,
     "start_time": "2022-06-13T12:17:44.603869",
     "status": "completed"
    },
    "tags": []
   },
   "source": [
    "train데이터와 test데이터의 각각의 데이터형식과 null값의 개수를 파악하기 위해서 info함수를 사용하였습니다."
   ]
  },
  {
   "cell_type": "code",
   "execution_count": 6,
   "id": "809f2b58",
   "metadata": {
    "execution": {
     "iopub.execute_input": "2022-06-13T12:17:44.618053Z",
     "iopub.status.busy": "2022-06-13T12:17:44.617632Z",
     "iopub.status.idle": "2022-06-13T12:17:45.770196Z",
     "shell.execute_reply": "2022-06-13T12:17:45.769263Z"
    },
    "papermill": {
     "duration": 1.160379,
     "end_time": "2022-06-13T12:17:45.772604",
     "exception": false,
     "start_time": "2022-06-13T12:17:44.612225",
     "status": "completed"
    },
    "tags": []
   },
   "outputs": [],
   "source": [
    "from sklearn import preprocessing\n",
    "label = ['조식메뉴','중식메뉴','석식메뉴','일자','요일']\n",
    "box = pd.concat([X_train,X_test])\n",
    "for i in label:\n",
    "    le = preprocessing.LabelEncoder()\n",
    "    le.fit(box[i])\n",
    "    X_train[i] = le.transform(X_train[i])\n",
    "    X_test[i] = le.transform(X_test[i])"
   ]
  },
  {
   "cell_type": "markdown",
   "id": "d6f3d60c",
   "metadata": {
    "papermill": {
     "duration": 0.003953,
     "end_time": "2022-06-13T12:17:45.780979",
     "exception": false,
     "start_time": "2022-06-13T12:17:45.777026",
     "status": "completed"
    },
    "tags": []
   },
   "source": [
    "데이터에 있는 값들 중 컴퓨터가 이해할 수 없는 한글을 실수화 해주기 위해서 labelencoder 함수를 사용했습니다."
   ]
  },
  {
   "cell_type": "code",
   "execution_count": 7,
   "id": "d4d2801c",
   "metadata": {
    "execution": {
     "iopub.execute_input": "2022-06-13T12:17:45.792464Z",
     "iopub.status.busy": "2022-06-13T12:17:45.792081Z",
     "iopub.status.idle": "2022-06-13T12:17:45.803826Z",
     "shell.execute_reply": "2022-06-13T12:17:45.803038Z"
    },
    "papermill": {
     "duration": 0.020315,
     "end_time": "2022-06-13T12:17:45.806002",
     "exception": false,
     "start_time": "2022-06-13T12:17:45.785687",
     "status": "completed"
    },
    "tags": []
   },
   "outputs": [],
   "source": [
    "from sklearn.preprocessing import MinMaxScaler\n",
    "sc = MinMaxScaler()\n",
    "X_trains = sc.fit_transform(X_train)\n",
    "X_tests = sc.transform(X_test)"
   ]
  },
  {
   "cell_type": "markdown",
   "id": "43f25410",
   "metadata": {
    "papermill": {
     "duration": 0.003945,
     "end_time": "2022-06-13T12:17:45.814485",
     "exception": false,
     "start_time": "2022-06-13T12:17:45.810540",
     "status": "completed"
    },
    "tags": []
   },
   "source": [
    "데이터의 분포구조를 변화시키기 위해서 전처리 기법인 minmaxscaler 함수를 사용했습니다."
   ]
  },
  {
   "cell_type": "code",
   "execution_count": 8,
   "id": "3af02652",
   "metadata": {
    "execution": {
     "iopub.execute_input": "2022-06-13T12:17:45.824852Z",
     "iopub.status.busy": "2022-06-13T12:17:45.824191Z",
     "iopub.status.idle": "2022-06-13T12:17:46.972862Z",
     "shell.execute_reply": "2022-06-13T12:17:46.972049Z"
    },
    "papermill": {
     "duration": 1.15638,
     "end_time": "2022-06-13T12:17:46.975096",
     "exception": false,
     "start_time": "2022-06-13T12:17:45.818716",
     "status": "completed"
    },
    "tags": []
   },
   "outputs": [
    {
     "data": {
      "text/html": [
       "<style type='text/css'>\n",
       ".datatable table.frame { margin-bottom: 0; }\n",
       ".datatable table.frame thead { border-bottom: none; }\n",
       ".datatable table.frame tr.coltypes td {  color: #FFFFFF;  line-height: 6px;  padding: 0 0.5em;}\n",
       ".datatable .bool    { background: #DDDD99; }\n",
       ".datatable .object  { background: #565656; }\n",
       ".datatable .int     { background: #5D9E5D; }\n",
       ".datatable .float   { background: #4040CC; }\n",
       ".datatable .str     { background: #CC4040; }\n",
       ".datatable .time    { background: #40CC40; }\n",
       ".datatable .row_index {  background: var(--jp-border-color3);  border-right: 1px solid var(--jp-border-color0);  color: var(--jp-ui-font-color3);  font-size: 9px;}\n",
       ".datatable .frame tbody td { text-align: left; }\n",
       ".datatable .frame tr.coltypes .row_index {  background: var(--jp-border-color0);}\n",
       ".datatable th:nth-child(2) { padding-left: 12px; }\n",
       ".datatable .hellipsis {  color: var(--jp-cell-editor-border-color);}\n",
       ".datatable .vellipsis {  background: var(--jp-layout-color0);  color: var(--jp-cell-editor-border-color);}\n",
       ".datatable .na {  color: var(--jp-cell-editor-border-color);  font-size: 80%;}\n",
       ".datatable .sp {  opacity: 0.25;}\n",
       ".datatable .footer { font-size: 9px; }\n",
       ".datatable .frame_dimensions {  background: var(--jp-border-color3);  border-top: 1px solid var(--jp-border-color0);  color: var(--jp-ui-font-color3);  display: inline-block;  opacity: 0.6;  padding: 1px 10px 1px 5px;}\n",
       "</style>\n"
      ],
      "text/plain": [
       "<IPython.core.display.HTML object>"
      ]
     },
     "metadata": {},
     "output_type": "display_data"
    }
   ],
   "source": [
    "from lightgbm import LGBMRegressor\n",
    "\n",
    "model = LGBMRegressor(random_state=42).fit(X_trains,y_train)\n",
    "y_test = model.predict(X_tests)"
   ]
  },
  {
   "cell_type": "markdown",
   "id": "3c92a576",
   "metadata": {
    "papermill": {
     "duration": 0.004104,
     "end_time": "2022-06-13T12:17:46.984031",
     "exception": false,
     "start_time": "2022-06-13T12:17:46.979927",
     "status": "completed"
    },
    "tags": []
   },
   "source": [
    "여러가지의 분류기중 최근 가장 좋은 성능을 보이고 있다는 lightgbm을 사용하기 위해서 해당 모델을 호출하여 학습하고 예측을 진행했습니다."
   ]
  },
  {
   "cell_type": "code",
   "execution_count": 9,
   "id": "c0b861c8",
   "metadata": {
    "execution": {
     "iopub.execute_input": "2022-06-13T12:17:46.994565Z",
     "iopub.status.busy": "2022-06-13T12:17:46.993958Z",
     "iopub.status.idle": "2022-06-13T12:17:47.001910Z",
     "shell.execute_reply": "2022-06-13T12:17:47.001233Z"
    },
    "papermill": {
     "duration": 0.015518,
     "end_time": "2022-06-13T12:17:47.003831",
     "exception": false,
     "start_time": "2022-06-13T12:17:46.988313",
     "status": "completed"
    },
    "tags": []
   },
   "outputs": [],
   "source": [
    "sample['중식계'] = y_test\n",
    "sample.to_csv('submit.csv',index=False)"
   ]
  },
  {
   "cell_type": "markdown",
   "id": "d06e5c56",
   "metadata": {
    "papermill": {
     "duration": 0.004011,
     "end_time": "2022-06-13T12:17:47.012355",
     "exception": false,
     "start_time": "2022-06-13T12:17:47.008344",
     "status": "completed"
    },
    "tags": []
   },
   "source": [
    "예측한 값을 csv파일로 옮겨서 제출하기 위해서 to_csv함수를 사용했습니다."
   ]
  },
  {
   "cell_type": "code",
   "execution_count": null,
   "id": "c0897026",
   "metadata": {
    "papermill": {
     "duration": 0.003876,
     "end_time": "2022-06-13T12:17:47.020392",
     "exception": false,
     "start_time": "2022-06-13T12:17:47.016516",
     "status": "completed"
    },
    "tags": []
   },
   "outputs": [],
   "source": []
  }
 ],
 "metadata": {
  "kernelspec": {
   "display_name": "Python 3",
   "language": "python",
   "name": "python3"
  },
  "language_info": {
   "codemirror_mode": {
    "name": "ipython",
    "version": 3
   },
   "file_extension": ".py",
   "mimetype": "text/x-python",
   "name": "python",
   "nbconvert_exporter": "python",
   "pygments_lexer": "ipython3",
   "version": "3.7.12"
  },
  "papermill": {
   "default_parameters": {},
   "duration": 12.182849,
   "end_time": "2022-06-13T12:17:47.745545",
   "environment_variables": {},
   "exception": null,
   "input_path": "__notebook__.ipynb",
   "output_path": "__notebook__.ipynb",
   "parameters": {},
   "start_time": "2022-06-13T12:17:35.562696",
   "version": "2.3.4"
  }
 },
 "nbformat": 4,
 "nbformat_minor": 5
}
