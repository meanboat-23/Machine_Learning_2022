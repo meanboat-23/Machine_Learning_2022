{
 "cells": [
  {
   "cell_type": "code",
   "execution_count": 1,
   "id": "9bf5c69e",
   "metadata": {
    "_cell_guid": "b1076dfc-b9ad-4769-8c92-a6c4dae69d19",
    "_uuid": "8f2839f25d086af736a60e9eeb907d3b93b6e0e5",
    "execution": {
     "iopub.execute_input": "2022-06-13T12:57:03.758035Z",
     "iopub.status.busy": "2022-06-13T12:57:03.756790Z",
     "iopub.status.idle": "2022-06-13T12:57:03.776083Z",
     "shell.execute_reply": "2022-06-13T12:57:03.774738Z"
    },
    "papermill": {
     "duration": 0.029819,
     "end_time": "2022-06-13T12:57:03.778934",
     "exception": false,
     "start_time": "2022-06-13T12:57:03.749115",
     "status": "completed"
    },
    "tags": []
   },
   "outputs": [
    {
     "name": "stdout",
     "output_type": "stream",
     "text": [
      "/kaggle/input/2022-ml-finalexam-p2/NetworkTest_x.csv\n",
      "/kaggle/input/2022-ml-finalexam-p2/NetworkTrain_x.csv\n",
      "/kaggle/input/2022-ml-finalexam-p2/submission_sample.csv\n",
      "/kaggle/input/2022-ml-finalexam-p2/NetworkTrain_y.csv\n"
     ]
    }
   ],
   "source": [
    "# This Python 3 environment comes with many helpful analytics libraries installed\n",
    "# It is defined by the kaggle/python Docker image: https://github.com/kaggle/docker-python\n",
    "# For example, here's several helpful packages to load\n",
    "\n",
    "import numpy as np # linear algebra\n",
    "import pandas as pd # data processing, CSV file I/O (e.g. pd.read_csv)\n",
    "\n",
    "# Input data files are available in the read-only \"../input/\" directory\n",
    "# For example, running this (by clicking run or pressing Shift+Enter) will list all files under the input directory\n",
    "\n",
    "import os\n",
    "for dirname, _, filenames in os.walk('/kaggle/input'):\n",
    "    for filename in filenames:\n",
    "        print(os.path.join(dirname, filename))\n",
    "\n",
    "# You can write up to 20GB to the current directory (/kaggle/working/) that gets preserved as output when you create a version using \"Save & Run All\" \n",
    "# You can also write temporary files to /kaggle/temp/, but they won't be saved outside of the current session"
   ]
  },
  {
   "cell_type": "code",
   "execution_count": 2,
   "id": "aaeb78e3",
   "metadata": {
    "execution": {
     "iopub.execute_input": "2022-06-13T12:57:03.790783Z",
     "iopub.status.busy": "2022-06-13T12:57:03.790120Z",
     "iopub.status.idle": "2022-06-13T12:57:04.602017Z",
     "shell.execute_reply": "2022-06-13T12:57:04.600620Z"
    },
    "papermill": {
     "duration": 0.820773,
     "end_time": "2022-06-13T12:57:04.604712",
     "exception": false,
     "start_time": "2022-06-13T12:57:03.783939",
     "status": "completed"
    },
    "tags": []
   },
   "outputs": [],
   "source": [
    "xtrain = pd.read_csv('/kaggle/input/2022-ml-finalexam-p2/NetworkTrain_x.csv',header=None)\n",
    "ytrain = pd.read_csv('/kaggle/input/2022-ml-finalexam-p2/NetworkTrain_y.csv',header=None)\n",
    "test = pd.read_csv('/kaggle/input/2022-ml-finalexam-p2/NetworkTest_x.csv',header=None)\n",
    "sample = pd.read_csv('/kaggle/input/2022-ml-finalexam-p2/submission_sample.csv')"
   ]
  },
  {
   "cell_type": "markdown",
   "id": "526ec644",
   "metadata": {
    "papermill": {
     "duration": 0.004362,
     "end_time": "2022-06-13T12:57:04.613794",
     "exception": false,
     "start_time": "2022-06-13T12:57:04.609432",
     "status": "completed"
    },
    "tags": []
   },
   "source": [
    "train데이터와 test데이터, 제출할 파일을 읽어 오기 위해서 pd.read_csv함수를 사용하였습니다."
   ]
  },
  {
   "cell_type": "code",
   "execution_count": 3,
   "id": "9ea0dd0b",
   "metadata": {
    "execution": {
     "iopub.execute_input": "2022-06-13T12:57:04.624773Z",
     "iopub.status.busy": "2022-06-13T12:57:04.624304Z",
     "iopub.status.idle": "2022-06-13T12:57:04.631324Z",
     "shell.execute_reply": "2022-06-13T12:57:04.630234Z"
    },
    "papermill": {
     "duration": 0.015134,
     "end_time": "2022-06-13T12:57:04.633508",
     "exception": false,
     "start_time": "2022-06-13T12:57:04.618374",
     "status": "completed"
    },
    "tags": []
   },
   "outputs": [],
   "source": [
    "ytrain = np.array(ytrain)\n",
    "y_train=[]"
   ]
  },
  {
   "cell_type": "markdown",
   "id": "ef3b9782",
   "metadata": {
    "papermill": {
     "duration": 0.004822,
     "end_time": "2022-06-13T12:57:04.643254",
     "exception": false,
     "start_time": "2022-06-13T12:57:04.638432",
     "status": "completed"
    },
    "tags": []
   },
   "source": [
    "정답데이터를 0과1로 변환해주기 위해서 np.array함수를 사용했습니다."
   ]
  },
  {
   "cell_type": "code",
   "execution_count": 4,
   "id": "e3c30329",
   "metadata": {
    "execution": {
     "iopub.execute_input": "2022-06-13T12:57:04.656822Z",
     "iopub.status.busy": "2022-06-13T12:57:04.655968Z",
     "iopub.status.idle": "2022-06-13T12:57:05.163671Z",
     "shell.execute_reply": "2022-06-13T12:57:05.162439Z"
    },
    "papermill": {
     "duration": 0.517482,
     "end_time": "2022-06-13T12:57:05.166244",
     "exception": false,
     "start_time": "2022-06-13T12:57:04.648762",
     "status": "completed"
    },
    "tags": []
   },
   "outputs": [],
   "source": [
    "for i in range (0,125973):\n",
    "    if ytrain[i]=='normal':\n",
    "        y_train.append(0)\n",
    "    else:\n",
    "        y_train.append(1)"
   ]
  },
  {
   "cell_type": "markdown",
   "id": "d0a4f36a",
   "metadata": {
    "papermill": {
     "duration": 0.004205,
     "end_time": "2022-06-13T12:57:05.175281",
     "exception": false,
     "start_time": "2022-06-13T12:57:05.171076",
     "status": "completed"
    },
    "tags": []
   },
   "source": [
    "0과 1을 대입해주기 위해서 append함수를 사용했습니다."
   ]
  },
  {
   "cell_type": "code",
   "execution_count": 5,
   "id": "8d819bf4",
   "metadata": {
    "execution": {
     "iopub.execute_input": "2022-06-13T12:57:05.186281Z",
     "iopub.status.busy": "2022-06-13T12:57:05.185786Z",
     "iopub.status.idle": "2022-06-13T12:57:05.283795Z",
     "shell.execute_reply": "2022-06-13T12:57:05.282675Z"
    },
    "papermill": {
     "duration": 0.107035,
     "end_time": "2022-06-13T12:57:05.286711",
     "exception": false,
     "start_time": "2022-06-13T12:57:05.179676",
     "status": "completed"
    },
    "tags": []
   },
   "outputs": [
    {
     "name": "stdout",
     "output_type": "stream",
     "text": [
      "<class 'pandas.core.frame.DataFrame'>\n",
      "RangeIndex: 125973 entries, 0 to 125972\n",
      "Data columns (total 41 columns):\n",
      " #   Column  Non-Null Count   Dtype  \n",
      "---  ------  --------------   -----  \n",
      " 0   0       125973 non-null  int64  \n",
      " 1   1       125973 non-null  object \n",
      " 2   2       125973 non-null  object \n",
      " 3   3       125973 non-null  object \n",
      " 4   4       125973 non-null  int64  \n",
      " 5   5       125973 non-null  int64  \n",
      " 6   6       125973 non-null  int64  \n",
      " 7   7       125973 non-null  int64  \n",
      " 8   8       125973 non-null  int64  \n",
      " 9   9       125973 non-null  int64  \n",
      " 10  10      125973 non-null  int64  \n",
      " 11  11      125973 non-null  int64  \n",
      " 12  12      125973 non-null  int64  \n",
      " 13  13      125973 non-null  int64  \n",
      " 14  14      125973 non-null  int64  \n",
      " 15  15      125973 non-null  int64  \n",
      " 16  16      125973 non-null  int64  \n",
      " 17  17      125973 non-null  int64  \n",
      " 18  18      125973 non-null  int64  \n",
      " 19  19      125973 non-null  int64  \n",
      " 20  20      125973 non-null  int64  \n",
      " 21  21      125973 non-null  int64  \n",
      " 22  22      125973 non-null  int64  \n",
      " 23  23      125973 non-null  int64  \n",
      " 24  24      125973 non-null  float64\n",
      " 25  25      125973 non-null  float64\n",
      " 26  26      125973 non-null  float64\n",
      " 27  27      125973 non-null  float64\n",
      " 28  28      125973 non-null  float64\n",
      " 29  29      125973 non-null  float64\n",
      " 30  30      125973 non-null  float64\n",
      " 31  31      125973 non-null  int64  \n",
      " 32  32      125973 non-null  int64  \n",
      " 33  33      125973 non-null  float64\n",
      " 34  34      125973 non-null  float64\n",
      " 35  35      125973 non-null  float64\n",
      " 36  36      125973 non-null  float64\n",
      " 37  37      125973 non-null  float64\n",
      " 38  38      125973 non-null  float64\n",
      " 39  39      125973 non-null  float64\n",
      " 40  40      125973 non-null  float64\n",
      "dtypes: float64(15), int64(23), object(3)\n",
      "memory usage: 39.4+ MB\n",
      "<class 'pandas.core.frame.DataFrame'>\n",
      "RangeIndex: 22544 entries, 0 to 22543\n",
      "Data columns (total 41 columns):\n",
      " #   Column  Non-Null Count  Dtype  \n",
      "---  ------  --------------  -----  \n",
      " 0   0       22544 non-null  int64  \n",
      " 1   1       22544 non-null  object \n",
      " 2   2       22544 non-null  object \n",
      " 3   3       22544 non-null  object \n",
      " 4   4       22544 non-null  int64  \n",
      " 5   5       22544 non-null  int64  \n",
      " 6   6       22544 non-null  int64  \n",
      " 7   7       22544 non-null  int64  \n",
      " 8   8       22544 non-null  int64  \n",
      " 9   9       22544 non-null  int64  \n",
      " 10  10      22544 non-null  int64  \n",
      " 11  11      22544 non-null  int64  \n",
      " 12  12      22544 non-null  int64  \n",
      " 13  13      22544 non-null  int64  \n",
      " 14  14      22544 non-null  int64  \n",
      " 15  15      22544 non-null  int64  \n",
      " 16  16      22544 non-null  int64  \n",
      " 17  17      22544 non-null  int64  \n",
      " 18  18      22544 non-null  int64  \n",
      " 19  19      22544 non-null  int64  \n",
      " 20  20      22544 non-null  int64  \n",
      " 21  21      22544 non-null  int64  \n",
      " 22  22      22544 non-null  int64  \n",
      " 23  23      22544 non-null  int64  \n",
      " 24  24      22544 non-null  float64\n",
      " 25  25      22544 non-null  float64\n",
      " 26  26      22544 non-null  float64\n",
      " 27  27      22544 non-null  float64\n",
      " 28  28      22544 non-null  float64\n",
      " 29  29      22544 non-null  float64\n",
      " 30  30      22544 non-null  float64\n",
      " 31  31      22544 non-null  int64  \n",
      " 32  32      22544 non-null  int64  \n",
      " 33  33      22544 non-null  float64\n",
      " 34  34      22544 non-null  float64\n",
      " 35  35      22544 non-null  float64\n",
      " 36  36      22544 non-null  float64\n",
      " 37  37      22544 non-null  float64\n",
      " 38  38      22544 non-null  float64\n",
      " 39  39      22544 non-null  float64\n",
      " 40  40      22544 non-null  float64\n",
      "dtypes: float64(15), int64(23), object(3)\n",
      "memory usage: 7.1+ MB\n"
     ]
    }
   ],
   "source": [
    "xtrain.info()\n",
    "test.info()"
   ]
  },
  {
   "cell_type": "markdown",
   "id": "e94ec55d",
   "metadata": {
    "papermill": {
     "duration": 0.00488,
     "end_time": "2022-06-13T12:57:05.296988",
     "exception": false,
     "start_time": "2022-06-13T12:57:05.292108",
     "status": "completed"
    },
    "tags": []
   },
   "source": [
    "train데이터와 test데이터의 각각의 데이터형식과 null값의 개수를 파악하기 위해서 info함수를 사용하였습니다."
   ]
  },
  {
   "cell_type": "code",
   "execution_count": 6,
   "id": "5dc631b3",
   "metadata": {
    "execution": {
     "iopub.execute_input": "2022-06-13T12:57:05.309702Z",
     "iopub.status.busy": "2022-06-13T12:57:05.308668Z",
     "iopub.status.idle": "2022-06-13T12:57:06.802251Z",
     "shell.execute_reply": "2022-06-13T12:57:06.801171Z"
    },
    "papermill": {
     "duration": 1.502339,
     "end_time": "2022-06-13T12:57:06.804590",
     "exception": false,
     "start_time": "2022-06-13T12:57:05.302251",
     "status": "completed"
    },
    "tags": []
   },
   "outputs": [],
   "source": [
    "from sklearn import preprocessing\n",
    "label = [1,2,3]\n",
    "for i in label:\n",
    "    le = preprocessing.LabelEncoder()\n",
    "    xtrain[i] = le.fit_transform(xtrain[i])\n",
    "    test[i] = le.transform(test[i])\n"
   ]
  },
  {
   "cell_type": "markdown",
   "id": "c994f89a",
   "metadata": {
    "papermill": {
     "duration": 0.00467,
     "end_time": "2022-06-13T12:57:06.814405",
     "exception": false,
     "start_time": "2022-06-13T12:57:06.809735",
     "status": "completed"
    },
    "tags": []
   },
   "source": [
    "데이터에 있는 값들 중 컴퓨터가 이해할 수 없는 한글을 실수화 해주기 위해서 labelencoder 함수를 사용했습니다."
   ]
  },
  {
   "cell_type": "code",
   "execution_count": 7,
   "id": "000cdf20",
   "metadata": {
    "execution": {
     "iopub.execute_input": "2022-06-13T12:57:06.826509Z",
     "iopub.status.busy": "2022-06-13T12:57:06.826002Z",
     "iopub.status.idle": "2022-06-13T12:57:09.509993Z",
     "shell.execute_reply": "2022-06-13T12:57:09.509188Z"
    },
    "papermill": {
     "duration": 2.693283,
     "end_time": "2022-06-13T12:57:09.512632",
     "exception": false,
     "start_time": "2022-06-13T12:57:06.819349",
     "status": "completed"
    },
    "tags": []
   },
   "outputs": [
    {
     "data": {
      "text/html": [
       "<style type='text/css'>\n",
       ".datatable table.frame { margin-bottom: 0; }\n",
       ".datatable table.frame thead { border-bottom: none; }\n",
       ".datatable table.frame tr.coltypes td {  color: #FFFFFF;  line-height: 6px;  padding: 0 0.5em;}\n",
       ".datatable .bool    { background: #DDDD99; }\n",
       ".datatable .object  { background: #565656; }\n",
       ".datatable .int     { background: #5D9E5D; }\n",
       ".datatable .float   { background: #4040CC; }\n",
       ".datatable .str     { background: #CC4040; }\n",
       ".datatable .time    { background: #40CC40; }\n",
       ".datatable .row_index {  background: var(--jp-border-color3);  border-right: 1px solid var(--jp-border-color0);  color: var(--jp-ui-font-color3);  font-size: 9px;}\n",
       ".datatable .frame tbody td { text-align: left; }\n",
       ".datatable .frame tr.coltypes .row_index {  background: var(--jp-border-color0);}\n",
       ".datatable th:nth-child(2) { padding-left: 12px; }\n",
       ".datatable .hellipsis {  color: var(--jp-cell-editor-border-color);}\n",
       ".datatable .vellipsis {  background: var(--jp-layout-color0);  color: var(--jp-cell-editor-border-color);}\n",
       ".datatable .na {  color: var(--jp-cell-editor-border-color);  font-size: 80%;}\n",
       ".datatable .sp {  opacity: 0.25;}\n",
       ".datatable .footer { font-size: 9px; }\n",
       ".datatable .frame_dimensions {  background: var(--jp-border-color3);  border-top: 1px solid var(--jp-border-color0);  color: var(--jp-ui-font-color3);  display: inline-block;  opacity: 0.6;  padding: 1px 10px 1px 5px;}\n",
       "</style>\n"
      ],
      "text/plain": [
       "<IPython.core.display.HTML object>"
      ]
     },
     "metadata": {},
     "output_type": "display_data"
    }
   ],
   "source": [
    "from lightgbm import LGBMClassifier\n",
    "\n",
    "model = LGBMClassifier(random_state=42).fit(xtrain,y_train)\n",
    "y_test = model.predict(test)"
   ]
  },
  {
   "cell_type": "markdown",
   "id": "2e435919",
   "metadata": {
    "papermill": {
     "duration": 0.005855,
     "end_time": "2022-06-13T12:57:09.524421",
     "exception": false,
     "start_time": "2022-06-13T12:57:09.518566",
     "status": "completed"
    },
    "tags": []
   },
   "source": [
    "여러가지의 분류기중 최근 가장 좋은 성능을 보이고 있다는 lightgbm을 사용하기 위해서 해당 모델을 호출하여 학습하고 예측을 진행했습니다."
   ]
  },
  {
   "cell_type": "code",
   "execution_count": 8,
   "id": "6e79d318",
   "metadata": {
    "execution": {
     "iopub.execute_input": "2022-06-13T12:57:09.536195Z",
     "iopub.status.busy": "2022-06-13T12:57:09.535711Z",
     "iopub.status.idle": "2022-06-13T12:57:09.581656Z",
     "shell.execute_reply": "2022-06-13T12:57:09.580287Z"
    },
    "papermill": {
     "duration": 0.054934,
     "end_time": "2022-06-13T12:57:09.584257",
     "exception": false,
     "start_time": "2022-06-13T12:57:09.529323",
     "status": "completed"
    },
    "tags": []
   },
   "outputs": [],
   "source": [
    "sample['Category'] = y_test\n",
    "sample.to_csv('submit.csv',index=False)"
   ]
  },
  {
   "cell_type": "markdown",
   "id": "dc394d31",
   "metadata": {
    "papermill": {
     "duration": 0.004702,
     "end_time": "2022-06-13T12:57:09.594288",
     "exception": false,
     "start_time": "2022-06-13T12:57:09.589586",
     "status": "completed"
    },
    "tags": []
   },
   "source": [
    "예측한 값을 csv파일로 옮겨서 제출하기 위해서 to_csv함수를 사용했습니다."
   ]
  },
  {
   "cell_type": "code",
   "execution_count": null,
   "id": "42b605de",
   "metadata": {
    "papermill": {
     "duration": 0.004637,
     "end_time": "2022-06-13T12:57:09.604347",
     "exception": false,
     "start_time": "2022-06-13T12:57:09.599710",
     "status": "completed"
    },
    "tags": []
   },
   "outputs": [],
   "source": []
  }
 ],
 "metadata": {
  "kernelspec": {
   "display_name": "Python 3",
   "language": "python",
   "name": "python3"
  },
  "language_info": {
   "codemirror_mode": {
    "name": "ipython",
    "version": 3
   },
   "file_extension": ".py",
   "mimetype": "text/x-python",
   "name": "python",
   "nbconvert_exporter": "python",
   "pygments_lexer": "ipython3",
   "version": "3.7.12"
  },
  "papermill": {
   "default_parameters": {},
   "duration": 18.559106,
   "end_time": "2022-06-13T12:57:10.633052",
   "environment_variables": {},
   "exception": null,
   "input_path": "__notebook__.ipynb",
   "output_path": "__notebook__.ipynb",
   "parameters": {},
   "start_time": "2022-06-13T12:56:52.073946",
   "version": "2.3.4"
  }
 },
 "nbformat": 4,
 "nbformat_minor": 5
}
